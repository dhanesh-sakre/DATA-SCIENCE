{
 "cells": [
  {
   "cell_type": "code",
   "execution_count": 29,
   "id": "48260a28-3a27-4200-9c3a-58cf6d83b509",
   "metadata": {},
   "outputs": [
    {
     "name": "stdin",
     "output_type": "stream",
     "text": [
      "type here number:  7\n"
     ]
    },
    {
     "name": "stdout",
     "output_type": "stream",
     "text": [
      "7 is a prime number\n"
     ]
    }
   ],
   "source": [
    "# Exercise 1: Prime Numbers\n",
    "\n",
    "\n",
    "num = int(input(\"type here number: \"))\n",
    "\n",
    "if num > 1:\n",
    "    for i in range(2, num):\n",
    "        if (num % i) == 0:\n",
    "            print(num, \"is not a prime number\")\n",
    "            break\n",
    "    else:\n",
    "        print(num, \"is a prime number\")\n",
    "else:\n",
    "    print(num, \"is not a prime number\")"
   ]
  },
  {
   "cell_type": "code",
   "execution_count": null,
   "id": "4ea77acb-9443-44f1-ae00-276c580183c4",
   "metadata": {},
   "outputs": [],
   "source": []
  },
  {
   "cell_type": "code",
   "execution_count": 17,
   "id": "f0865e3b-d5ed-4de6-b3f5-df9cb5511355",
   "metadata": {},
   "outputs": [
    {
     "name": "stdout",
     "output_type": "stream",
     "text": [
      "70 + 47 = \n"
     ]
    },
    {
     "name": "stdin",
     "output_type": "stream",
     "text": [
      "the sum is:  117\n"
     ]
    },
    {
     "name": "stdout",
     "output_type": "stream",
     "text": [
      "correct\n"
     ]
    }
   ],
   "source": [
    "# Exercise 2: Product of Random Numbers\n",
    "\n",
    "import random\n",
    "num1 = random.randint(1, 100)\n",
    "num2 = random.randint(1, 100)\n",
    "sum = num1 + num2\n",
    "print(f\"{num1} + {num2} = \")\n",
    "result = int(input(\"the sum is: \"))\n",
    "if (result == sum):\n",
    "    print(\"correct\")\n",
    "else:\n",
    "    print(\"incorrect\")"
   ]
  },
  {
   "cell_type": "code",
   "execution_count": 20,
   "id": "e818ed4a-a809-4c2c-998f-a51097db28c6",
   "metadata": {},
   "outputs": [
    {
     "name": "stdout",
     "output_type": "stream",
     "text": [
      "10000\n",
      "10404\n",
      "10816\n",
      "11236\n",
      "11664\n",
      "12100\n",
      "12544\n",
      "12996\n",
      "13456\n",
      "13924\n",
      "14400\n",
      "14884\n",
      "15376\n",
      "15876\n",
      "16384\n",
      "16900\n",
      "17424\n",
      "17956\n",
      "18496\n",
      "19044\n",
      "19600\n",
      "20164\n",
      "20736\n",
      "21316\n",
      "21904\n",
      "22500\n",
      "23104\n",
      "23716\n",
      "24336\n",
      "24964\n",
      "25600\n",
      "26244\n",
      "26896\n",
      "27556\n",
      "28224\n",
      "28900\n",
      "29584\n",
      "30276\n",
      "30976\n",
      "31684\n",
      "32400\n",
      "33124\n",
      "33856\n",
      "34596\n",
      "35344\n",
      "36100\n",
      "36864\n",
      "37636\n",
      "38416\n",
      "39204\n",
      "40000\n"
     ]
    }
   ],
   "source": [
    "# Exercise 3: Squares of Even/Odd Numbers(even squares)\n",
    "\n",
    "for i in range(100, 201):\n",
    "    if (i % 2) == 0:\n",
    "        print(i ** 2)\n",
    "    else:\n",
    "        continue"
   ]
  },
  {
   "cell_type": "code",
   "execution_count": null,
   "id": "bd55ae68-a8a3-465a-b3d6-214b58b419fa",
   "metadata": {},
   "outputs": [],
   "source": [
    "# Exercise 4: Word counter"
   ]
  },
  {
   "cell_type": "code",
   "execution_count": 23,
   "id": "436bd37b-7096-4de3-aaa2-4aeb49dd7161",
   "metadata": {},
   "outputs": [
    {
     "name": "stdin",
     "output_type": "stream",
     "text": [
      "type here text:  my name is dhanesh sakre.\n"
     ]
    },
    {
     "name": "stdout",
     "output_type": "stream",
     "text": [
      "The number of words in the sentence is: 5\n"
     ]
    }
   ],
   "source": [
    "text = input(\"type here text: \",)\n",
    "\n",
    "def count_words(text):\n",
    "    words = text.split()\n",
    "    return len(words)\n",
    "word_count = count_words(text)\n",
    "print(f\"The number of words in the sentence is: {word_count}\")"
   ]
  },
  {
   "cell_type": "code",
   "execution_count": 27,
   "id": "1b635242-d504-4021-b380-3f3387b269d5",
   "metadata": {},
   "outputs": [
    {
     "name": "stdout",
     "output_type": "stream",
     "text": [
      "the number of word in the sentence is: 15\n"
     ]
    }
   ],
   "source": [
    "input_text = \"This is a sample text. This text will be used to demonstrate the word counter.\"\n",
    "\n",
    "def count_words(input_text):\n",
    "    words = text.split()\n",
    "    return len(words)\n",
    "word_count = count_words(input_text)\n",
    "print(f\"the number of word in the sentence is: {word_count}\")"
   ]
  },
  {
   "cell_type": "code",
   "execution_count": 28,
   "id": "dcbf63b0-9072-43d7-96b6-71cb28fdd228",
   "metadata": {},
   "outputs": [
    {
     "name": "stdin",
     "output_type": "stream",
     "text": [
      "type here:  racecar\n"
     ]
    },
    {
     "name": "stdout",
     "output_type": "stream",
     "text": [
      "Yes\n"
     ]
    }
   ],
   "source": [
    "# Exercise 5: Check for Palindrome\n",
    "# Input: \"racecar\"\n",
    "\n",
    "\n",
    "def isPalindrome(Input):\n",
    "    return Input == Input[::-1]\n",
    "\n",
    "Input =  input(\"type here: \")\n",
    "Output = isPalindrome(Input)\n",
    "\n",
    "if Output:\n",
    "    print(\"Yes\")\n",
    "else:\n",
    "    print(\"No\")\n"
   ]
  }
 ],
 "metadata": {
  "kernelspec": {
   "display_name": "Python 3 (ipykernel)",
   "language": "python",
   "name": "python3"
  },
  "language_info": {
   "codemirror_mode": {
    "name": "ipython",
    "version": 3
   },
   "file_extension": ".py",
   "mimetype": "text/x-python",
   "name": "python",
   "nbconvert_exporter": "python",
   "pygments_lexer": "ipython3",
   "version": "3.12.4"
  }
 },
 "nbformat": 4,
 "nbformat_minor": 5
}
