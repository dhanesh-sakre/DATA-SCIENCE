{
 "cells": [
  {
   "cell_type": "code",
   "execution_count": 1,
   "id": "cd5fdd01-5968-4fe1-9b84-2189ea3a5b0d",
   "metadata": {},
   "outputs": [],
   "source": [
    "import pandas as pd\n",
    "import numpy as np\n",
    "import matplotlib.pyplot as plt\n",
    "plt.rcParams['figure.figsize'] = (10,5)\n",
    "plt.rcParams['figure.dpi'] = 250\n",
    "import seaborn as sns\n",
    "import warnings\n",
    "warnings.filterwarnings('ignore')\n",
    "%matplotlib inline"
   ]
  },
  {
   "cell_type": "code",
   "execution_count": 2,
   "id": "13327f3b-054f-4e3b-a5b7-689d1d96d1e3",
   "metadata": {},
   "outputs": [
    {
     "ename": "URLError",
     "evalue": "<urlopen error [Errno 11001] getaddrinfo failed>",
     "output_type": "error",
     "traceback": [
      "\u001b[1;31m---------------------------------------------------------------------------\u001b[0m",
      "\u001b[1;31mgaierror\u001b[0m                                  Traceback (most recent call last)",
      "File \u001b[1;32m~\\anaconda3\\Lib\\urllib\\request.py:1344\u001b[0m, in \u001b[0;36mAbstractHTTPHandler.do_open\u001b[1;34m(self, http_class, req, **http_conn_args)\u001b[0m\n\u001b[0;32m   1343\u001b[0m \u001b[38;5;28;01mtry\u001b[39;00m:\n\u001b[1;32m-> 1344\u001b[0m     h\u001b[38;5;241m.\u001b[39mrequest(req\u001b[38;5;241m.\u001b[39mget_method(), req\u001b[38;5;241m.\u001b[39mselector, req\u001b[38;5;241m.\u001b[39mdata, headers,\n\u001b[0;32m   1345\u001b[0m               encode_chunked\u001b[38;5;241m=\u001b[39mreq\u001b[38;5;241m.\u001b[39mhas_header(\u001b[38;5;124m'\u001b[39m\u001b[38;5;124mTransfer-encoding\u001b[39m\u001b[38;5;124m'\u001b[39m))\n\u001b[0;32m   1346\u001b[0m \u001b[38;5;28;01mexcept\u001b[39;00m \u001b[38;5;167;01mOSError\u001b[39;00m \u001b[38;5;28;01mas\u001b[39;00m err: \u001b[38;5;66;03m# timeout error\u001b[39;00m\n",
      "File \u001b[1;32m~\\anaconda3\\Lib\\http\\client.py:1336\u001b[0m, in \u001b[0;36mHTTPConnection.request\u001b[1;34m(self, method, url, body, headers, encode_chunked)\u001b[0m\n\u001b[0;32m   1335\u001b[0m \u001b[38;5;250m\u001b[39m\u001b[38;5;124;03m\"\"\"Send a complete request to the server.\"\"\"\u001b[39;00m\n\u001b[1;32m-> 1336\u001b[0m \u001b[38;5;28mself\u001b[39m\u001b[38;5;241m.\u001b[39m_send_request(method, url, body, headers, encode_chunked)\n",
      "File \u001b[1;32m~\\anaconda3\\Lib\\http\\client.py:1382\u001b[0m, in \u001b[0;36mHTTPConnection._send_request\u001b[1;34m(self, method, url, body, headers, encode_chunked)\u001b[0m\n\u001b[0;32m   1381\u001b[0m     body \u001b[38;5;241m=\u001b[39m _encode(body, \u001b[38;5;124m'\u001b[39m\u001b[38;5;124mbody\u001b[39m\u001b[38;5;124m'\u001b[39m)\n\u001b[1;32m-> 1382\u001b[0m \u001b[38;5;28mself\u001b[39m\u001b[38;5;241m.\u001b[39mendheaders(body, encode_chunked\u001b[38;5;241m=\u001b[39mencode_chunked)\n",
      "File \u001b[1;32m~\\anaconda3\\Lib\\http\\client.py:1331\u001b[0m, in \u001b[0;36mHTTPConnection.endheaders\u001b[1;34m(self, message_body, encode_chunked)\u001b[0m\n\u001b[0;32m   1330\u001b[0m     \u001b[38;5;28;01mraise\u001b[39;00m CannotSendHeader()\n\u001b[1;32m-> 1331\u001b[0m \u001b[38;5;28mself\u001b[39m\u001b[38;5;241m.\u001b[39m_send_output(message_body, encode_chunked\u001b[38;5;241m=\u001b[39mencode_chunked)\n",
      "File \u001b[1;32m~\\anaconda3\\Lib\\http\\client.py:1091\u001b[0m, in \u001b[0;36mHTTPConnection._send_output\u001b[1;34m(self, message_body, encode_chunked)\u001b[0m\n\u001b[0;32m   1090\u001b[0m \u001b[38;5;28;01mdel\u001b[39;00m \u001b[38;5;28mself\u001b[39m\u001b[38;5;241m.\u001b[39m_buffer[:]\n\u001b[1;32m-> 1091\u001b[0m \u001b[38;5;28mself\u001b[39m\u001b[38;5;241m.\u001b[39msend(msg)\n\u001b[0;32m   1093\u001b[0m \u001b[38;5;28;01mif\u001b[39;00m message_body \u001b[38;5;129;01mis\u001b[39;00m \u001b[38;5;129;01mnot\u001b[39;00m \u001b[38;5;28;01mNone\u001b[39;00m:\n\u001b[0;32m   1094\u001b[0m \n\u001b[0;32m   1095\u001b[0m     \u001b[38;5;66;03m# create a consistent interface to message_body\u001b[39;00m\n",
      "File \u001b[1;32m~\\anaconda3\\Lib\\http\\client.py:1035\u001b[0m, in \u001b[0;36mHTTPConnection.send\u001b[1;34m(self, data)\u001b[0m\n\u001b[0;32m   1034\u001b[0m \u001b[38;5;28;01mif\u001b[39;00m \u001b[38;5;28mself\u001b[39m\u001b[38;5;241m.\u001b[39mauto_open:\n\u001b[1;32m-> 1035\u001b[0m     \u001b[38;5;28mself\u001b[39m\u001b[38;5;241m.\u001b[39mconnect()\n\u001b[0;32m   1036\u001b[0m \u001b[38;5;28;01melse\u001b[39;00m:\n",
      "File \u001b[1;32m~\\anaconda3\\Lib\\http\\client.py:1470\u001b[0m, in \u001b[0;36mHTTPSConnection.connect\u001b[1;34m(self)\u001b[0m\n\u001b[0;32m   1468\u001b[0m \u001b[38;5;124m\"\u001b[39m\u001b[38;5;124mConnect to a host on a given (SSL) port.\u001b[39m\u001b[38;5;124m\"\u001b[39m\n\u001b[1;32m-> 1470\u001b[0m \u001b[38;5;28msuper\u001b[39m()\u001b[38;5;241m.\u001b[39mconnect()\n\u001b[0;32m   1472\u001b[0m \u001b[38;5;28;01mif\u001b[39;00m \u001b[38;5;28mself\u001b[39m\u001b[38;5;241m.\u001b[39m_tunnel_host:\n",
      "File \u001b[1;32m~\\anaconda3\\Lib\\http\\client.py:1001\u001b[0m, in \u001b[0;36mHTTPConnection.connect\u001b[1;34m(self)\u001b[0m\n\u001b[0;32m   1000\u001b[0m sys\u001b[38;5;241m.\u001b[39maudit(\u001b[38;5;124m\"\u001b[39m\u001b[38;5;124mhttp.client.connect\u001b[39m\u001b[38;5;124m\"\u001b[39m, \u001b[38;5;28mself\u001b[39m, \u001b[38;5;28mself\u001b[39m\u001b[38;5;241m.\u001b[39mhost, \u001b[38;5;28mself\u001b[39m\u001b[38;5;241m.\u001b[39mport)\n\u001b[1;32m-> 1001\u001b[0m \u001b[38;5;28mself\u001b[39m\u001b[38;5;241m.\u001b[39msock \u001b[38;5;241m=\u001b[39m \u001b[38;5;28mself\u001b[39m\u001b[38;5;241m.\u001b[39m_create_connection(\n\u001b[0;32m   1002\u001b[0m     (\u001b[38;5;28mself\u001b[39m\u001b[38;5;241m.\u001b[39mhost,\u001b[38;5;28mself\u001b[39m\u001b[38;5;241m.\u001b[39mport), \u001b[38;5;28mself\u001b[39m\u001b[38;5;241m.\u001b[39mtimeout, \u001b[38;5;28mself\u001b[39m\u001b[38;5;241m.\u001b[39msource_address)\n\u001b[0;32m   1003\u001b[0m \u001b[38;5;66;03m# Might fail in OSs that don't implement TCP_NODELAY\u001b[39;00m\n",
      "File \u001b[1;32m~\\anaconda3\\Lib\\socket.py:829\u001b[0m, in \u001b[0;36mcreate_connection\u001b[1;34m(address, timeout, source_address, all_errors)\u001b[0m\n\u001b[0;32m    828\u001b[0m exceptions \u001b[38;5;241m=\u001b[39m []\n\u001b[1;32m--> 829\u001b[0m \u001b[38;5;28;01mfor\u001b[39;00m res \u001b[38;5;129;01min\u001b[39;00m getaddrinfo(host, port, \u001b[38;5;241m0\u001b[39m, SOCK_STREAM):\n\u001b[0;32m    830\u001b[0m     af, socktype, proto, canonname, sa \u001b[38;5;241m=\u001b[39m res\n",
      "File \u001b[1;32m~\\anaconda3\\Lib\\socket.py:964\u001b[0m, in \u001b[0;36mgetaddrinfo\u001b[1;34m(host, port, family, type, proto, flags)\u001b[0m\n\u001b[0;32m    963\u001b[0m addrlist \u001b[38;5;241m=\u001b[39m []\n\u001b[1;32m--> 964\u001b[0m \u001b[38;5;28;01mfor\u001b[39;00m res \u001b[38;5;129;01min\u001b[39;00m _socket\u001b[38;5;241m.\u001b[39mgetaddrinfo(host, port, family, \u001b[38;5;28mtype\u001b[39m, proto, flags):\n\u001b[0;32m    965\u001b[0m     af, socktype, proto, canonname, sa \u001b[38;5;241m=\u001b[39m res\n",
      "\u001b[1;31mgaierror\u001b[0m: [Errno 11001] getaddrinfo failed",
      "\nDuring handling of the above exception, another exception occurred:\n",
      "\u001b[1;31mURLError\u001b[0m                                  Traceback (most recent call last)",
      "Cell \u001b[1;32mIn[2], line 1\u001b[0m\n\u001b[1;32m----> 1\u001b[0m df \u001b[38;5;241m=\u001b[39m pd\u001b[38;5;241m.\u001b[39mread_csv(\u001b[38;5;124m'\u001b[39m\u001b[38;5;124mhttps://raw.githubusercontent.com/dhanesh-sakre/DATA-SCIENCE/refs/heads/main/Assignment/Multiple_Linear_Regression/ToyotaCorolla\u001b[39m\u001b[38;5;124m%\u001b[39m\u001b[38;5;124m20-\u001b[39m\u001b[38;5;124m%\u001b[39m\u001b[38;5;124m20MLR.csv\u001b[39m\u001b[38;5;124m'\u001b[39m)\n\u001b[0;32m      2\u001b[0m df\n",
      "File \u001b[1;32m~\\anaconda3\\Lib\\site-packages\\pandas\\io\\parsers\\readers.py:1026\u001b[0m, in \u001b[0;36mread_csv\u001b[1;34m(filepath_or_buffer, sep, delimiter, header, names, index_col, usecols, dtype, engine, converters, true_values, false_values, skipinitialspace, skiprows, skipfooter, nrows, na_values, keep_default_na, na_filter, verbose, skip_blank_lines, parse_dates, infer_datetime_format, keep_date_col, date_parser, date_format, dayfirst, cache_dates, iterator, chunksize, compression, thousands, decimal, lineterminator, quotechar, quoting, doublequote, escapechar, comment, encoding, encoding_errors, dialect, on_bad_lines, delim_whitespace, low_memory, memory_map, float_precision, storage_options, dtype_backend)\u001b[0m\n\u001b[0;32m   1013\u001b[0m kwds_defaults \u001b[38;5;241m=\u001b[39m _refine_defaults_read(\n\u001b[0;32m   1014\u001b[0m     dialect,\n\u001b[0;32m   1015\u001b[0m     delimiter,\n\u001b[1;32m   (...)\u001b[0m\n\u001b[0;32m   1022\u001b[0m     dtype_backend\u001b[38;5;241m=\u001b[39mdtype_backend,\n\u001b[0;32m   1023\u001b[0m )\n\u001b[0;32m   1024\u001b[0m kwds\u001b[38;5;241m.\u001b[39mupdate(kwds_defaults)\n\u001b[1;32m-> 1026\u001b[0m \u001b[38;5;28;01mreturn\u001b[39;00m _read(filepath_or_buffer, kwds)\n",
      "File \u001b[1;32m~\\anaconda3\\Lib\\site-packages\\pandas\\io\\parsers\\readers.py:620\u001b[0m, in \u001b[0;36m_read\u001b[1;34m(filepath_or_buffer, kwds)\u001b[0m\n\u001b[0;32m    617\u001b[0m _validate_names(kwds\u001b[38;5;241m.\u001b[39mget(\u001b[38;5;124m\"\u001b[39m\u001b[38;5;124mnames\u001b[39m\u001b[38;5;124m\"\u001b[39m, \u001b[38;5;28;01mNone\u001b[39;00m))\n\u001b[0;32m    619\u001b[0m \u001b[38;5;66;03m# Create the parser.\u001b[39;00m\n\u001b[1;32m--> 620\u001b[0m parser \u001b[38;5;241m=\u001b[39m TextFileReader(filepath_or_buffer, \u001b[38;5;241m*\u001b[39m\u001b[38;5;241m*\u001b[39mkwds)\n\u001b[0;32m    622\u001b[0m \u001b[38;5;28;01mif\u001b[39;00m chunksize \u001b[38;5;129;01mor\u001b[39;00m iterator:\n\u001b[0;32m    623\u001b[0m     \u001b[38;5;28;01mreturn\u001b[39;00m parser\n",
      "File \u001b[1;32m~\\anaconda3\\Lib\\site-packages\\pandas\\io\\parsers\\readers.py:1620\u001b[0m, in \u001b[0;36mTextFileReader.__init__\u001b[1;34m(self, f, engine, **kwds)\u001b[0m\n\u001b[0;32m   1617\u001b[0m     \u001b[38;5;28mself\u001b[39m\u001b[38;5;241m.\u001b[39moptions[\u001b[38;5;124m\"\u001b[39m\u001b[38;5;124mhas_index_names\u001b[39m\u001b[38;5;124m\"\u001b[39m] \u001b[38;5;241m=\u001b[39m kwds[\u001b[38;5;124m\"\u001b[39m\u001b[38;5;124mhas_index_names\u001b[39m\u001b[38;5;124m\"\u001b[39m]\n\u001b[0;32m   1619\u001b[0m \u001b[38;5;28mself\u001b[39m\u001b[38;5;241m.\u001b[39mhandles: IOHandles \u001b[38;5;241m|\u001b[39m \u001b[38;5;28;01mNone\u001b[39;00m \u001b[38;5;241m=\u001b[39m \u001b[38;5;28;01mNone\u001b[39;00m\n\u001b[1;32m-> 1620\u001b[0m \u001b[38;5;28mself\u001b[39m\u001b[38;5;241m.\u001b[39m_engine \u001b[38;5;241m=\u001b[39m \u001b[38;5;28mself\u001b[39m\u001b[38;5;241m.\u001b[39m_make_engine(f, \u001b[38;5;28mself\u001b[39m\u001b[38;5;241m.\u001b[39mengine)\n",
      "File \u001b[1;32m~\\anaconda3\\Lib\\site-packages\\pandas\\io\\parsers\\readers.py:1880\u001b[0m, in \u001b[0;36mTextFileReader._make_engine\u001b[1;34m(self, f, engine)\u001b[0m\n\u001b[0;32m   1878\u001b[0m     \u001b[38;5;28;01mif\u001b[39;00m \u001b[38;5;124m\"\u001b[39m\u001b[38;5;124mb\u001b[39m\u001b[38;5;124m\"\u001b[39m \u001b[38;5;129;01mnot\u001b[39;00m \u001b[38;5;129;01min\u001b[39;00m mode:\n\u001b[0;32m   1879\u001b[0m         mode \u001b[38;5;241m+\u001b[39m\u001b[38;5;241m=\u001b[39m \u001b[38;5;124m\"\u001b[39m\u001b[38;5;124mb\u001b[39m\u001b[38;5;124m\"\u001b[39m\n\u001b[1;32m-> 1880\u001b[0m \u001b[38;5;28mself\u001b[39m\u001b[38;5;241m.\u001b[39mhandles \u001b[38;5;241m=\u001b[39m get_handle(\n\u001b[0;32m   1881\u001b[0m     f,\n\u001b[0;32m   1882\u001b[0m     mode,\n\u001b[0;32m   1883\u001b[0m     encoding\u001b[38;5;241m=\u001b[39m\u001b[38;5;28mself\u001b[39m\u001b[38;5;241m.\u001b[39moptions\u001b[38;5;241m.\u001b[39mget(\u001b[38;5;124m\"\u001b[39m\u001b[38;5;124mencoding\u001b[39m\u001b[38;5;124m\"\u001b[39m, \u001b[38;5;28;01mNone\u001b[39;00m),\n\u001b[0;32m   1884\u001b[0m     compression\u001b[38;5;241m=\u001b[39m\u001b[38;5;28mself\u001b[39m\u001b[38;5;241m.\u001b[39moptions\u001b[38;5;241m.\u001b[39mget(\u001b[38;5;124m\"\u001b[39m\u001b[38;5;124mcompression\u001b[39m\u001b[38;5;124m\"\u001b[39m, \u001b[38;5;28;01mNone\u001b[39;00m),\n\u001b[0;32m   1885\u001b[0m     memory_map\u001b[38;5;241m=\u001b[39m\u001b[38;5;28mself\u001b[39m\u001b[38;5;241m.\u001b[39moptions\u001b[38;5;241m.\u001b[39mget(\u001b[38;5;124m\"\u001b[39m\u001b[38;5;124mmemory_map\u001b[39m\u001b[38;5;124m\"\u001b[39m, \u001b[38;5;28;01mFalse\u001b[39;00m),\n\u001b[0;32m   1886\u001b[0m     is_text\u001b[38;5;241m=\u001b[39mis_text,\n\u001b[0;32m   1887\u001b[0m     errors\u001b[38;5;241m=\u001b[39m\u001b[38;5;28mself\u001b[39m\u001b[38;5;241m.\u001b[39moptions\u001b[38;5;241m.\u001b[39mget(\u001b[38;5;124m\"\u001b[39m\u001b[38;5;124mencoding_errors\u001b[39m\u001b[38;5;124m\"\u001b[39m, \u001b[38;5;124m\"\u001b[39m\u001b[38;5;124mstrict\u001b[39m\u001b[38;5;124m\"\u001b[39m),\n\u001b[0;32m   1888\u001b[0m     storage_options\u001b[38;5;241m=\u001b[39m\u001b[38;5;28mself\u001b[39m\u001b[38;5;241m.\u001b[39moptions\u001b[38;5;241m.\u001b[39mget(\u001b[38;5;124m\"\u001b[39m\u001b[38;5;124mstorage_options\u001b[39m\u001b[38;5;124m\"\u001b[39m, \u001b[38;5;28;01mNone\u001b[39;00m),\n\u001b[0;32m   1889\u001b[0m )\n\u001b[0;32m   1890\u001b[0m \u001b[38;5;28;01massert\u001b[39;00m \u001b[38;5;28mself\u001b[39m\u001b[38;5;241m.\u001b[39mhandles \u001b[38;5;129;01mis\u001b[39;00m \u001b[38;5;129;01mnot\u001b[39;00m \u001b[38;5;28;01mNone\u001b[39;00m\n\u001b[0;32m   1891\u001b[0m f \u001b[38;5;241m=\u001b[39m \u001b[38;5;28mself\u001b[39m\u001b[38;5;241m.\u001b[39mhandles\u001b[38;5;241m.\u001b[39mhandle\n",
      "File \u001b[1;32m~\\anaconda3\\Lib\\site-packages\\pandas\\io\\common.py:728\u001b[0m, in \u001b[0;36mget_handle\u001b[1;34m(path_or_buf, mode, encoding, compression, memory_map, is_text, errors, storage_options)\u001b[0m\n\u001b[0;32m    725\u001b[0m     codecs\u001b[38;5;241m.\u001b[39mlookup_error(errors)\n\u001b[0;32m    727\u001b[0m \u001b[38;5;66;03m# open URLs\u001b[39;00m\n\u001b[1;32m--> 728\u001b[0m ioargs \u001b[38;5;241m=\u001b[39m _get_filepath_or_buffer(\n\u001b[0;32m    729\u001b[0m     path_or_buf,\n\u001b[0;32m    730\u001b[0m     encoding\u001b[38;5;241m=\u001b[39mencoding,\n\u001b[0;32m    731\u001b[0m     compression\u001b[38;5;241m=\u001b[39mcompression,\n\u001b[0;32m    732\u001b[0m     mode\u001b[38;5;241m=\u001b[39mmode,\n\u001b[0;32m    733\u001b[0m     storage_options\u001b[38;5;241m=\u001b[39mstorage_options,\n\u001b[0;32m    734\u001b[0m )\n\u001b[0;32m    736\u001b[0m handle \u001b[38;5;241m=\u001b[39m ioargs\u001b[38;5;241m.\u001b[39mfilepath_or_buffer\n\u001b[0;32m    737\u001b[0m handles: \u001b[38;5;28mlist\u001b[39m[BaseBuffer]\n",
      "File \u001b[1;32m~\\anaconda3\\Lib\\site-packages\\pandas\\io\\common.py:384\u001b[0m, in \u001b[0;36m_get_filepath_or_buffer\u001b[1;34m(filepath_or_buffer, encoding, compression, mode, storage_options)\u001b[0m\n\u001b[0;32m    382\u001b[0m \u001b[38;5;66;03m# assuming storage_options is to be interpreted as headers\u001b[39;00m\n\u001b[0;32m    383\u001b[0m req_info \u001b[38;5;241m=\u001b[39m urllib\u001b[38;5;241m.\u001b[39mrequest\u001b[38;5;241m.\u001b[39mRequest(filepath_or_buffer, headers\u001b[38;5;241m=\u001b[39mstorage_options)\n\u001b[1;32m--> 384\u001b[0m \u001b[38;5;28;01mwith\u001b[39;00m urlopen(req_info) \u001b[38;5;28;01mas\u001b[39;00m req:\n\u001b[0;32m    385\u001b[0m     content_encoding \u001b[38;5;241m=\u001b[39m req\u001b[38;5;241m.\u001b[39mheaders\u001b[38;5;241m.\u001b[39mget(\u001b[38;5;124m\"\u001b[39m\u001b[38;5;124mContent-Encoding\u001b[39m\u001b[38;5;124m\"\u001b[39m, \u001b[38;5;28;01mNone\u001b[39;00m)\n\u001b[0;32m    386\u001b[0m     \u001b[38;5;28;01mif\u001b[39;00m content_encoding \u001b[38;5;241m==\u001b[39m \u001b[38;5;124m\"\u001b[39m\u001b[38;5;124mgzip\u001b[39m\u001b[38;5;124m\"\u001b[39m:\n\u001b[0;32m    387\u001b[0m         \u001b[38;5;66;03m# Override compression based on Content-Encoding header\u001b[39;00m\n",
      "File \u001b[1;32m~\\anaconda3\\Lib\\site-packages\\pandas\\io\\common.py:289\u001b[0m, in \u001b[0;36murlopen\u001b[1;34m(*args, **kwargs)\u001b[0m\n\u001b[0;32m    283\u001b[0m \u001b[38;5;250m\u001b[39m\u001b[38;5;124;03m\"\"\"\u001b[39;00m\n\u001b[0;32m    284\u001b[0m \u001b[38;5;124;03mLazy-import wrapper for stdlib urlopen, as that imports a big chunk of\u001b[39;00m\n\u001b[0;32m    285\u001b[0m \u001b[38;5;124;03mthe stdlib.\u001b[39;00m\n\u001b[0;32m    286\u001b[0m \u001b[38;5;124;03m\"\"\"\u001b[39;00m\n\u001b[0;32m    287\u001b[0m \u001b[38;5;28;01mimport\u001b[39;00m \u001b[38;5;21;01murllib\u001b[39;00m\u001b[38;5;21;01m.\u001b[39;00m\u001b[38;5;21;01mrequest\u001b[39;00m\n\u001b[1;32m--> 289\u001b[0m \u001b[38;5;28;01mreturn\u001b[39;00m urllib\u001b[38;5;241m.\u001b[39mrequest\u001b[38;5;241m.\u001b[39murlopen(\u001b[38;5;241m*\u001b[39margs, \u001b[38;5;241m*\u001b[39m\u001b[38;5;241m*\u001b[39mkwargs)\n",
      "File \u001b[1;32m~\\anaconda3\\Lib\\urllib\\request.py:215\u001b[0m, in \u001b[0;36murlopen\u001b[1;34m(url, data, timeout, cafile, capath, cadefault, context)\u001b[0m\n\u001b[0;32m    213\u001b[0m \u001b[38;5;28;01melse\u001b[39;00m:\n\u001b[0;32m    214\u001b[0m     opener \u001b[38;5;241m=\u001b[39m _opener\n\u001b[1;32m--> 215\u001b[0m \u001b[38;5;28;01mreturn\u001b[39;00m opener\u001b[38;5;241m.\u001b[39mopen(url, data, timeout)\n",
      "File \u001b[1;32m~\\anaconda3\\Lib\\urllib\\request.py:515\u001b[0m, in \u001b[0;36mOpenerDirector.open\u001b[1;34m(self, fullurl, data, timeout)\u001b[0m\n\u001b[0;32m    512\u001b[0m     req \u001b[38;5;241m=\u001b[39m meth(req)\n\u001b[0;32m    514\u001b[0m sys\u001b[38;5;241m.\u001b[39maudit(\u001b[38;5;124m'\u001b[39m\u001b[38;5;124murllib.Request\u001b[39m\u001b[38;5;124m'\u001b[39m, req\u001b[38;5;241m.\u001b[39mfull_url, req\u001b[38;5;241m.\u001b[39mdata, req\u001b[38;5;241m.\u001b[39mheaders, req\u001b[38;5;241m.\u001b[39mget_method())\n\u001b[1;32m--> 515\u001b[0m response \u001b[38;5;241m=\u001b[39m \u001b[38;5;28mself\u001b[39m\u001b[38;5;241m.\u001b[39m_open(req, data)\n\u001b[0;32m    517\u001b[0m \u001b[38;5;66;03m# post-process response\u001b[39;00m\n\u001b[0;32m    518\u001b[0m meth_name \u001b[38;5;241m=\u001b[39m protocol\u001b[38;5;241m+\u001b[39m\u001b[38;5;124m\"\u001b[39m\u001b[38;5;124m_response\u001b[39m\u001b[38;5;124m\"\u001b[39m\n",
      "File \u001b[1;32m~\\anaconda3\\Lib\\urllib\\request.py:532\u001b[0m, in \u001b[0;36mOpenerDirector._open\u001b[1;34m(self, req, data)\u001b[0m\n\u001b[0;32m    529\u001b[0m     \u001b[38;5;28;01mreturn\u001b[39;00m result\n\u001b[0;32m    531\u001b[0m protocol \u001b[38;5;241m=\u001b[39m req\u001b[38;5;241m.\u001b[39mtype\n\u001b[1;32m--> 532\u001b[0m result \u001b[38;5;241m=\u001b[39m \u001b[38;5;28mself\u001b[39m\u001b[38;5;241m.\u001b[39m_call_chain(\u001b[38;5;28mself\u001b[39m\u001b[38;5;241m.\u001b[39mhandle_open, protocol, protocol \u001b[38;5;241m+\u001b[39m\n\u001b[0;32m    533\u001b[0m                           \u001b[38;5;124m'\u001b[39m\u001b[38;5;124m_open\u001b[39m\u001b[38;5;124m'\u001b[39m, req)\n\u001b[0;32m    534\u001b[0m \u001b[38;5;28;01mif\u001b[39;00m result:\n\u001b[0;32m    535\u001b[0m     \u001b[38;5;28;01mreturn\u001b[39;00m result\n",
      "File \u001b[1;32m~\\anaconda3\\Lib\\urllib\\request.py:492\u001b[0m, in \u001b[0;36mOpenerDirector._call_chain\u001b[1;34m(self, chain, kind, meth_name, *args)\u001b[0m\n\u001b[0;32m    490\u001b[0m \u001b[38;5;28;01mfor\u001b[39;00m handler \u001b[38;5;129;01min\u001b[39;00m handlers:\n\u001b[0;32m    491\u001b[0m     func \u001b[38;5;241m=\u001b[39m \u001b[38;5;28mgetattr\u001b[39m(handler, meth_name)\n\u001b[1;32m--> 492\u001b[0m     result \u001b[38;5;241m=\u001b[39m func(\u001b[38;5;241m*\u001b[39margs)\n\u001b[0;32m    493\u001b[0m     \u001b[38;5;28;01mif\u001b[39;00m result \u001b[38;5;129;01mis\u001b[39;00m \u001b[38;5;129;01mnot\u001b[39;00m \u001b[38;5;28;01mNone\u001b[39;00m:\n\u001b[0;32m    494\u001b[0m         \u001b[38;5;28;01mreturn\u001b[39;00m result\n",
      "File \u001b[1;32m~\\anaconda3\\Lib\\urllib\\request.py:1392\u001b[0m, in \u001b[0;36mHTTPSHandler.https_open\u001b[1;34m(self, req)\u001b[0m\n\u001b[0;32m   1391\u001b[0m \u001b[38;5;28;01mdef\u001b[39;00m \u001b[38;5;21mhttps_open\u001b[39m(\u001b[38;5;28mself\u001b[39m, req):\n\u001b[1;32m-> 1392\u001b[0m     \u001b[38;5;28;01mreturn\u001b[39;00m \u001b[38;5;28mself\u001b[39m\u001b[38;5;241m.\u001b[39mdo_open(http\u001b[38;5;241m.\u001b[39mclient\u001b[38;5;241m.\u001b[39mHTTPSConnection, req,\n\u001b[0;32m   1393\u001b[0m                         context\u001b[38;5;241m=\u001b[39m\u001b[38;5;28mself\u001b[39m\u001b[38;5;241m.\u001b[39m_context)\n",
      "File \u001b[1;32m~\\anaconda3\\Lib\\urllib\\request.py:1347\u001b[0m, in \u001b[0;36mAbstractHTTPHandler.do_open\u001b[1;34m(self, http_class, req, **http_conn_args)\u001b[0m\n\u001b[0;32m   1344\u001b[0m         h\u001b[38;5;241m.\u001b[39mrequest(req\u001b[38;5;241m.\u001b[39mget_method(), req\u001b[38;5;241m.\u001b[39mselector, req\u001b[38;5;241m.\u001b[39mdata, headers,\n\u001b[0;32m   1345\u001b[0m                   encode_chunked\u001b[38;5;241m=\u001b[39mreq\u001b[38;5;241m.\u001b[39mhas_header(\u001b[38;5;124m'\u001b[39m\u001b[38;5;124mTransfer-encoding\u001b[39m\u001b[38;5;124m'\u001b[39m))\n\u001b[0;32m   1346\u001b[0m     \u001b[38;5;28;01mexcept\u001b[39;00m \u001b[38;5;167;01mOSError\u001b[39;00m \u001b[38;5;28;01mas\u001b[39;00m err: \u001b[38;5;66;03m# timeout error\u001b[39;00m\n\u001b[1;32m-> 1347\u001b[0m         \u001b[38;5;28;01mraise\u001b[39;00m URLError(err)\n\u001b[0;32m   1348\u001b[0m     r \u001b[38;5;241m=\u001b[39m h\u001b[38;5;241m.\u001b[39mgetresponse()\n\u001b[0;32m   1349\u001b[0m \u001b[38;5;28;01mexcept\u001b[39;00m:\n",
      "\u001b[1;31mURLError\u001b[0m: <urlopen error [Errno 11001] getaddrinfo failed>"
     ]
    }
   ],
   "source": [
    "df = pd.read_csv('https://raw.githubusercontent.com/dhanesh-sakre/DATA-SCIENCE/refs/heads/main/Assignment/Multiple_Linear_Regression/ToyotaCorolla%20-%20MLR.csv')\n",
    "df"
   ]
  },
  {
   "cell_type": "markdown",
   "id": "9da923e2-edcb-42b8-b5f3-60423061bc80",
   "metadata": {},
   "source": [
    "# EDA"
   ]
  },
  {
   "cell_type": "code",
   "execution_count": null,
   "id": "88b86b14-1684-486b-8649-51c41acb8e26",
   "metadata": {},
   "outputs": [],
   "source": [
    "df.describe()"
   ]
  },
  {
   "cell_type": "code",
   "execution_count": null,
   "id": "38bfb134-df65-4451-8835-afe1f038d561",
   "metadata": {},
   "outputs": [],
   "source": [
    "# descriptive_analysisi:\n",
    "    # there is no missing row\n",
    "    # outliers may be present in the KM,cc columns"
   ]
  },
  {
   "cell_type": "code",
   "execution_count": null,
   "id": "779f9962-5ec7-4434-a064-79615a18f321",
   "metadata": {},
   "outputs": [],
   "source": [
    "sns.boxplot(df)"
   ]
  },
  {
   "cell_type": "code",
   "execution_count": null,
   "id": "5608af6f-91e8-44b1-9aa9-090319da86a6",
   "metadata": {},
   "outputs": [],
   "source": [
    "# it's confirm that 'KM' and 'cc' column is having outliers"
   ]
  },
  {
   "cell_type": "code",
   "execution_count": null,
   "id": "09af0faf-aa21-4054-a3b7-ae82faaf1706",
   "metadata": {},
   "outputs": [],
   "source": [
    "# check for the missing values"
   ]
  },
  {
   "cell_type": "code",
   "execution_count": null,
   "id": "61c54b3c-3bad-49db-ac73-f471703ce2bb",
   "metadata": {},
   "outputs": [],
   "source": [
    "df.isna().sum()"
   ]
  },
  {
   "cell_type": "code",
   "execution_count": null,
   "id": "90004e29-0366-4a77-b2ea-b94c36f89c38",
   "metadata": {},
   "outputs": [],
   "source": [
    "# there is no missing values present in the dataset"
   ]
  },
  {
   "cell_type": "code",
   "execution_count": null,
   "id": "8694cb31-ab67-48ed-835f-ea959518eadc",
   "metadata": {},
   "outputs": [],
   "source": [
    "df.dtypes"
   ]
  },
  {
   "cell_type": "code",
   "execution_count": null,
   "id": "ed4a0622-5463-48e8-a6c9-788142341650",
   "metadata": {},
   "outputs": [],
   "source": [
    "df.head()"
   ]
  },
  {
   "cell_type": "code",
   "execution_count": null,
   "id": "83e8561e-3ec0-4521-8873-2acd2941211e",
   "metadata": {},
   "outputs": [],
   "source": [
    "df['Fuel_Type'].unique()"
   ]
  },
  {
   "cell_type": "code",
   "execution_count": null,
   "id": "1b692a56-ee2e-4a15-8c6d-2b796ef5f008",
   "metadata": {},
   "outputs": [],
   "source": [
    "df.nunique()"
   ]
  },
  {
   "cell_type": "code",
   "execution_count": null,
   "id": "6bfc335d-b933-4782-88f5-c7c612ca52cd",
   "metadata": {},
   "outputs": [],
   "source": [
    "# frequency of unique values in the columns"
   ]
  },
  {
   "cell_type": "code",
   "execution_count": null,
   "id": "17155074-7ef0-4b8f-8704-77ca7576495d",
   "metadata": {},
   "outputs": [],
   "source": [
    "df['Doors'].value_counts()"
   ]
  },
  {
   "cell_type": "code",
   "execution_count": null,
   "id": "fcbf7f6b-9dd1-435d-a79f-d933ab757af4",
   "metadata": {},
   "outputs": [],
   "source": [
    "df['Gears'].value_counts()"
   ]
  },
  {
   "cell_type": "code",
   "execution_count": null,
   "id": "96ba56f0-1313-4042-b621-cfd4e25e6710",
   "metadata": {},
   "outputs": [],
   "source": [
    "df['Cylinders'].value_counts()"
   ]
  },
  {
   "cell_type": "code",
   "execution_count": null,
   "id": "27433f6c-d332-47ed-9c34-961439ecc071",
   "metadata": {},
   "outputs": [],
   "source": [
    "df['Automatic'].value_counts()"
   ]
  },
  {
   "cell_type": "markdown",
   "id": "532e2472-027a-4fb3-a9f1-62d353e24708",
   "metadata": {},
   "source": [
    "# data transformation"
   ]
  },
  {
   "cell_type": "code",
   "execution_count": null,
   "id": "759adaf2-745e-4e5f-a75c-fca7ae0ba944",
   "metadata": {},
   "outputs": [],
   "source": [
    "df.head(3)"
   ]
  },
  {
   "cell_type": "markdown",
   "id": "c43441b1-5f91-4791-bdae-df7aa6b253f4",
   "metadata": {},
   "source": [
    "### one hot encoding"
   ]
  },
  {
   "cell_type": "code",
   "execution_count": null,
   "id": "0102638e-e63b-45b0-8c2e-0995c5df5f7c",
   "metadata": {},
   "outputs": [],
   "source": [
    "# Fuel_Type column is having text data type so I need to perform one_hot_edcoding"
   ]
  },
  {
   "cell_type": "code",
   "execution_count": null,
   "id": "7d402561-a755-4ca2-ab05-78d4c3e1077b",
   "metadata": {},
   "outputs": [],
   "source": [
    "df = pd.get_dummies(df, columns=['Fuel_Type'], dtype=int)\n",
    "df"
   ]
  },
  {
   "cell_type": "code",
   "execution_count": null,
   "id": "84491929-a1b9-4a5c-a78d-42ceac84a348",
   "metadata": {},
   "outputs": [],
   "source": []
  },
  {
   "cell_type": "markdown",
   "id": "572e952d-a0b0-4e1c-a12e-1c622981f9d1",
   "metadata": {},
   "source": [
    "# Feature scaling"
   ]
  },
  {
   "cell_type": "code",
   "execution_count": null,
   "id": "5d19f7b5-59cd-4a10-b561-573db70889ca",
   "metadata": {},
   "outputs": [],
   "source": [
    "x = df.iloc[:, 1:]\n",
    "x"
   ]
  },
  {
   "cell_type": "code",
   "execution_count": null,
   "id": "343185db-c8a1-4201-8ca9-87c17729c7ec",
   "metadata": {},
   "outputs": [],
   "source": [
    "y = df[['Price']]\n",
    "y"
   ]
  },
  {
   "cell_type": "code",
   "execution_count": null,
   "id": "52215439-7fbb-4428-83cb-e693225a1b55",
   "metadata": {},
   "outputs": [],
   "source": [
    "# standardization"
   ]
  },
  {
   "cell_type": "code",
   "execution_count": null,
   "id": "aae930ac-4bc5-49ee-ab76-e3440425e9e8",
   "metadata": {},
   "outputs": [],
   "source": [
    "from sklearn.preprocessing import StandardScaler"
   ]
  },
  {
   "cell_type": "code",
   "execution_count": null,
   "id": "e4c89d3e-9b64-4530-b3ad-e126ea3447c7",
   "metadata": {},
   "outputs": [],
   "source": [
    "st = StandardScaler()"
   ]
  },
  {
   "cell_type": "code",
   "execution_count": null,
   "id": "d8c3c4eb-af79-4102-b5fd-422de3050326",
   "metadata": {},
   "outputs": [],
   "source": [
    "st_x = st.fit_transform(x)\n",
    "st_x"
   ]
  },
  {
   "cell_type": "code",
   "execution_count": null,
   "id": "f66bc011-5622-45fa-a7c2-c7e9f7b28908",
   "metadata": {},
   "outputs": [],
   "source": [
    "x = pd.DataFrame(st_x, columns=x.columns)    #converting to dataframe\n",
    "x"
   ]
  },
  {
   "cell_type": "markdown",
   "id": "96f2564e-78a1-4a61-b3eb-6fa140f443bf",
   "metadata": {},
   "source": [
    "## model builiding"
   ]
  },
  {
   "cell_type": "code",
   "execution_count": null,
   "id": "856e530d-c503-432b-b88f-c3cc2da8e1a4",
   "metadata": {},
   "outputs": [],
   "source": [
    "# splitting in training and testing"
   ]
  },
  {
   "cell_type": "code",
   "execution_count": null,
   "id": "afa31adf-33c9-4aa9-9896-13ddecd94f55",
   "metadata": {},
   "outputs": [],
   "source": [
    "from sklearn.model_selection import train_test_split"
   ]
  },
  {
   "cell_type": "code",
   "execution_count": null,
   "id": "a0043390-f7a5-4540-b790-d5a74fa7e0aa",
   "metadata": {},
   "outputs": [],
   "source": [
    "xtrain,xtest,ytrain,ytest = train_test_split(x,y,train_size=0.80, random_state=42)"
   ]
  },
  {
   "cell_type": "code",
   "execution_count": null,
   "id": "bb7091c2-7391-4a33-8c94-2cce070119ff",
   "metadata": {},
   "outputs": [],
   "source": [
    "xtrain"
   ]
  },
  {
   "cell_type": "code",
   "execution_count": null,
   "id": "92b9bdb0-bca5-4a00-9046-155730370640",
   "metadata": {},
   "outputs": [],
   "source": [
    "xtest"
   ]
  },
  {
   "cell_type": "code",
   "execution_count": null,
   "id": "2e5ca7e4-d15e-4411-ad98-010ca32b2289",
   "metadata": {},
   "outputs": [],
   "source": [
    "ytrain"
   ]
  },
  {
   "cell_type": "code",
   "execution_count": null,
   "id": "e3d41e64-eaa8-4e25-8744-8ee93f6bd3e5",
   "metadata": {},
   "outputs": [],
   "source": [
    "ytest"
   ]
  },
  {
   "cell_type": "code",
   "execution_count": null,
   "id": "9c5ec010-5d35-44aa-b0a5-3e474b82556e",
   "metadata": {},
   "outputs": [],
   "source": [
    "# concatinating xtrain and ytrain(target column) data to get a complete training dataset"
   ]
  },
  {
   "cell_type": "code",
   "execution_count": null,
   "id": "d009dbe3-00d0-4b70-bbce-b58cb300f7d5",
   "metadata": {},
   "outputs": [],
   "source": [
    "train_data = pd.concat([xtrain, ytrain], axis=1)\n",
    "train_data"
   ]
  },
  {
   "cell_type": "code",
   "execution_count": null,
   "id": "2fdb383a-ab75-4469-8acf-b949b6d01250",
   "metadata": {},
   "outputs": [],
   "source": [
    "# model building"
   ]
  },
  {
   "cell_type": "code",
   "execution_count": null,
   "id": "68c54cee-2f9a-44cf-b9a3-045aca9b59b6",
   "metadata": {},
   "outputs": [],
   "source": [
    "import statsmodels.formula.api as smf"
   ]
  },
  {
   "cell_type": "code",
   "execution_count": null,
   "id": "7104d3d8-80a9-4331-a17c-892b76064a16",
   "metadata": {},
   "outputs": [],
   "source": [
    "model = smf.ols('Price~Age_08_04+KM+HP+Automatic+cc+Doors+Cylinders+Gears+Weight+Fuel_Type_CNG+Fuel_Type_Diesel+Fuel_Type_Petrol', data=train_data).fit()"
   ]
  },
  {
   "cell_type": "code",
   "execution_count": null,
   "id": "28f83f40-043d-4663-8b9d-c8c5d553f4c2",
   "metadata": {},
   "outputs": [],
   "source": [
    "model.params            #intercept and slop value of each independent variable"
   ]
  },
  {
   "cell_type": "code",
   "execution_count": null,
   "id": "64881bef-7a44-4f4e-a282-3b25b2acda41",
   "metadata": {},
   "outputs": [],
   "source": [
    "# checking multicolinearity"
   ]
  },
  {
   "cell_type": "code",
   "execution_count": null,
   "id": "bbae091a-f7fa-4382-bd71-d61a37ab0e89",
   "metadata": {},
   "outputs": [],
   "source": [
    "model.pvalues"
   ]
  },
  {
   "cell_type": "markdown",
   "id": "ae17639d-0fcf-476a-8348-f5c80a9b92e5",
   "metadata": {},
   "source": [
    "### conclusion\n",
    " these are the pvalues for each column and all the pvalues are less than alpha value(0.5)\n",
    " that means there is no multicolinearity between the independent features\n",
    " and all of the independent features are important for analysis because their slow value is not 0."
   ]
  },
  {
   "cell_type": "code",
   "execution_count": null,
   "id": "366f7e65-e477-4f48-947c-af6ecfe875f8",
   "metadata": {},
   "outputs": [],
   "source": [
    "model.rsquared                  #checking accuracy"
   ]
  },
  {
   "cell_type": "code",
   "execution_count": null,
   "id": "9cf3ee62-e386-4cf5-870a-6f42063dda68",
   "metadata": {},
   "outputs": [],
   "source": [
    "print(f'accuracy of the model is:  {model.rsquared}')"
   ]
  },
  {
   "cell_type": "markdown",
   "id": "770360ee-6c33-4f17-b01d-4228e18af0d4",
   "metadata": {},
   "source": [
    "### checking assumptions about the error datapoint"
   ]
  },
  {
   "cell_type": "code",
   "execution_count": null,
   "id": "f7862fce-9a61-48a5-aa1b-05c6d180ccdd",
   "metadata": {},
   "outputs": [],
   "source": [
    "import statsmodels.api as sm"
   ]
  },
  {
   "cell_type": "code",
   "execution_count": null,
   "id": "fd07cf74-1643-4ac2-96d3-55d250f2f07c",
   "metadata": {},
   "outputs": [],
   "source": [
    "model.fittedvalues               #getting the predicted values that model calculated in backend"
   ]
  },
  {
   "cell_type": "code",
   "execution_count": null,
   "id": "9af5278b-ecda-4175-a8ec-639937f7c2df",
   "metadata": {},
   "outputs": [],
   "source": [
    "errors = model.resid           #error calculated by the model\n",
    "errors"
   ]
  },
  {
   "cell_type": "markdown",
   "id": "7b2392bb-59c4-4d64-880f-bd4820cf8487",
   "metadata": {},
   "source": [
    "# CHECK ASSUMPTIONS ABOUT ERROR DATAPOINTS"
   ]
  },
  {
   "cell_type": "markdown",
   "id": "f8cc98ea-e7e5-4a36-a5b4-6a142d5b57ce",
   "metadata": {},
   "source": [
    "## 1st assumption for errordatapoints:\n",
    "### IID Normal distribution"
   ]
  },
  {
   "cell_type": "markdown",
   "id": "f70911b4-3646-4cd9-aea2-5d0a1e11254d",
   "metadata": {},
   "source": []
  },
  {
   "cell_type": "code",
   "execution_count": null,
   "id": "53f9f206-eb52-4727-a6b4-d26e4226f93d",
   "metadata": {},
   "outputs": [],
   "source": [
    "# QQPLOT for check normal distribution of error datapoints"
   ]
  },
  {
   "cell_type": "code",
   "execution_count": null,
   "id": "658158c0-d4d1-4096-a37f-174a88e9045c",
   "metadata": {},
   "outputs": [],
   "source": [
    "sm.qqplot(errors, line='q')"
   ]
  },
  {
   "cell_type": "code",
   "execution_count": null,
   "id": "2272493e-a34c-41e4-8bb3-70906b2aa4c2",
   "metadata": {},
   "outputs": [],
   "source": [
    "# there are 2 outliers present in the lower side"
   ]
  },
  {
   "cell_type": "code",
   "execution_count": null,
   "id": "fbc93ddc-b33a-4c9b-93f1-f0a74f972edd",
   "metadata": {},
   "outputs": [],
   "source": []
  },
  {
   "cell_type": "code",
   "execution_count": null,
   "id": "7d28f252-6136-461a-84dd-2b5b0b34cfc6",
   "metadata": {},
   "outputs": [],
   "source": [
    "# row number of error datapoints and error"
   ]
  },
  {
   "cell_type": "code",
   "execution_count": null,
   "id": "3d491194-fab4-4392-886a-ec6cc5ca65ab",
   "metadata": {},
   "outputs": [],
   "source": [
    "df_error = pd.DataFrame(errors,columns=['error'])\n",
    "df_error = df_error.sort_values(by='error')\n",
    "df_error"
   ]
  },
  {
   "cell_type": "code",
   "execution_count": null,
   "id": "ed159bad-ddcb-4104-a10b-411b2c3756fc",
   "metadata": {},
   "outputs": [],
   "source": [
    "# row 960 and 601 are outlier datapoints"
   ]
  },
  {
   "cell_type": "code",
   "execution_count": null,
   "id": "f1456aba-f2ca-484e-914e-0ad5f56df1ed",
   "metadata": {},
   "outputs": [],
   "source": []
  },
  {
   "cell_type": "markdown",
   "id": "b207df42-dc95-4383-9ebd-ad8be749d1fb",
   "metadata": {},
   "source": [
    "# 2rd assumption for error datapoints:\n",
    "###  HOMOSCEDASTICITY"
   ]
  },
  {
   "cell_type": "code",
   "execution_count": null,
   "id": "2ae3b2bf-f24e-4487-a888-2c95941e66aa",
   "metadata": {},
   "outputs": [],
   "source": [
    "plt.scatter(model.fittedvalues, errors)\n",
    "plt.xlabel('predicted values')\n",
    "plt.ylabel('errors')\n",
    "plt.title('constant variance')"
   ]
  },
  {
   "cell_type": "markdown",
   "id": "1605218e-00fe-4cb3-b3bf-4fc4efd49ec6",
   "metadata": {},
   "source": [
    "# 3rd assumption for error datapoints:\n",
    "### MEAN = 0"
   ]
  },
  {
   "cell_type": "code",
   "execution_count": null,
   "id": "dff58404-01b8-4a4c-a4f2-a268062d51c2",
   "metadata": {},
   "outputs": [],
   "source": [
    "sm.graphics.plot_regress_exog(model, 'Age_08_04')"
   ]
  },
  {
   "cell_type": "code",
   "execution_count": null,
   "id": "8b2426fb-99b0-4c88-9d83-0a2f52de6e8b",
   "metadata": {},
   "outputs": [],
   "source": [
    "sm.graphics.plot_regress_exog(model, 'KM')"
   ]
  },
  {
   "cell_type": "code",
   "execution_count": null,
   "id": "68734e27-357a-46e6-bdb5-cac6cc4fb246",
   "metadata": {},
   "outputs": [],
   "source": [
    "sm.graphics.plot_regress_exog(model, 'HP')"
   ]
  },
  {
   "cell_type": "code",
   "execution_count": null,
   "id": "18780e60-b428-460d-be26-f8c73e1f8e25",
   "metadata": {},
   "outputs": [],
   "source": [
    "sm.graphics.plot_regress_exog(model, 'Automatic')"
   ]
  },
  {
   "cell_type": "code",
   "execution_count": null,
   "id": "4fd8a42d-e4cf-4e21-90c0-7fba769857fc",
   "metadata": {},
   "outputs": [],
   "source": [
    "sm.graphics.plot_regress_exog(model, 'cc')"
   ]
  },
  {
   "cell_type": "code",
   "execution_count": null,
   "id": "fdc53758-5439-4c7f-b7a7-e36d720843d1",
   "metadata": {},
   "outputs": [],
   "source": [
    "sm.graphics.plot_regress_exog(model, 'Doors')"
   ]
  },
  {
   "cell_type": "code",
   "execution_count": null,
   "id": "bd6e0541-3338-493e-8042-2c7c3c537ea7",
   "metadata": {},
   "outputs": [],
   "source": [
    "sm.graphics.plot_regress_exog(model, 'Cylinders')"
   ]
  },
  {
   "cell_type": "code",
   "execution_count": null,
   "id": "54ece298-3b6e-46cf-bd13-4f5189878da3",
   "metadata": {},
   "outputs": [],
   "source": [
    "sm.graphics.plot_regress_exog(model, 'Gears')"
   ]
  },
  {
   "cell_type": "code",
   "execution_count": null,
   "id": "011cc679-cfea-4880-9516-413f347f7c59",
   "metadata": {},
   "outputs": [],
   "source": [
    "sm.graphics.plot_regress_exog(model, 'Weight')"
   ]
  },
  {
   "cell_type": "markdown",
   "id": "9e542da8-f901-479f-bbf1-16c1feaded7c",
   "metadata": {},
   "source": [
    "### conclusion(interpretation) of testing of assumptions of error datapoints by these 3 types of plots(qqplot, scatterplot, plot_regress_exog)"
   ]
  },
  {
   "cell_type": "markdown",
   "id": "7c84fc20-8eab-437f-8d02-8a764accf607",
   "metadata": {},
   "source": [
    "#### 1.     there is not homoscedasticity due to presence of outlier datapoints"
   ]
  },
  {
   "cell_type": "markdown",
   "id": "d66cc0d1-b2bc-4c7f-847e-d5f5011ee1ec",
   "metadata": {},
   "source": [
    "#### 2.     error data points are not following IID distribution because of 2 outlier datapoints"
   ]
  },
  {
   "cell_type": "markdown",
   "id": "d33f1be3-9721-4517-8f81-483167c2460b",
   "metadata": {},
   "source": [
    "#### 3.     third assumption is getting satisfied:  mean = 0"
   ]
  },
  {
   "cell_type": "code",
   "execution_count": null,
   "id": "17c16895-bcb7-485e-a2bc-76bd1227f84a",
   "metadata": {},
   "outputs": [],
   "source": []
  },
  {
   "cell_type": "code",
   "execution_count": null,
   "id": "5b23a32d-bdaf-44c0-901d-1632b7a0589c",
   "metadata": {},
   "outputs": [],
   "source": []
  },
  {
   "cell_type": "markdown",
   "id": "2d9a210a-4ae3-4c29-b20d-df4e5e848d8b",
   "metadata": {},
   "source": [
    "# GETTING PREDICTION on testing data"
   ]
  },
  {
   "cell_type": "code",
   "execution_count": null,
   "id": "acd625d9-e46a-4d44-8b2f-e80772db0e09",
   "metadata": {},
   "outputs": [],
   "source": [
    "xtest"
   ]
  },
  {
   "cell_type": "code",
   "execution_count": null,
   "id": "9b1fb5bb-da47-4730-8dd7-2813e4ee2179",
   "metadata": {},
   "outputs": [],
   "source": [
    "model.predict(xtest)       #getting predictions on testing data from model"
   ]
  },
  {
   "cell_type": "code",
   "execution_count": null,
   "id": "9e650c12-0a44-4b71-9882-32a5a640bfad",
   "metadata": {},
   "outputs": [],
   "source": [
    "ypred = pd.DataFrame(model.predict(xtest), columns=['Predicted_Price'])\n",
    "ypred"
   ]
  },
  {
   "cell_type": "code",
   "execution_count": null,
   "id": "1b8db4f6-b82f-42a0-8307-57f6a6f6f81c",
   "metadata": {},
   "outputs": [],
   "source": [
    "# using sklearn liberary for calculating accuracy of the model on testing data"
   ]
  },
  {
   "cell_type": "code",
   "execution_count": null,
   "id": "a7856d23-c57b-4cfb-a316-a8d9b7da48a6",
   "metadata": {},
   "outputs": [],
   "source": [
    "from sklearn.metrics import r2_score"
   ]
  },
  {
   "cell_type": "code",
   "execution_count": null,
   "id": "05e1f870-a07f-46be-b5cb-dcc2a2056d5a",
   "metadata": {},
   "outputs": [],
   "source": [
    "accuracy = r2_score(ytest, ypred)\n",
    "accuracy"
   ]
  },
  {
   "cell_type": "code",
   "execution_count": null,
   "id": "516d578f-d878-4915-bd1b-f9344adb149b",
   "metadata": {},
   "outputs": [],
   "source": [
    "print(f'on training data accuracy of model is :  {accuracy}')"
   ]
  },
  {
   "cell_type": "code",
   "execution_count": null,
   "id": "7514130d-d14d-4703-8fcc-897a0e0d526f",
   "metadata": {},
   "outputs": [],
   "source": [
    "# for my own understanding"
   ]
  },
  {
   "cell_type": "code",
   "execution_count": null,
   "id": "d84750d1-554f-4732-b6a7-0fb3e18445ad",
   "metadata": {},
   "outputs": [],
   "source": [
    "final_observation = pd.concat([xtest, ypred], axis=1)\n",
    "final_observation"
   ]
  },
  {
   "cell_type": "code",
   "execution_count": null,
   "id": "72d48317-cfff-4a78-aac6-6571fc1d8e06",
   "metadata": {},
   "outputs": [],
   "source": []
  },
  {
   "cell_type": "markdown",
   "id": "26aa6160-e427-416f-9a69-fd9d8d996522",
   "metadata": {},
   "source": [
    "# drop outliers"
   ]
  },
  {
   "cell_type": "code",
   "execution_count": null,
   "id": "3ee1aded-e4b6-4e83-acf9-f2a992762dbf",
   "metadata": {},
   "outputs": [],
   "source": [
    "df_error"
   ]
  },
  {
   "cell_type": "code",
   "execution_count": null,
   "id": "47674920-4d6d-4c39-a49d-553a379ca62e",
   "metadata": {},
   "outputs": [],
   "source": [
    "train_data.drop(960, axis=0, inplace=True)\n",
    "train_data.drop(601, axis=0, inplace=True)\n",
    "\n",
    "train_data"
   ]
  },
  {
   "cell_type": "code",
   "execution_count": null,
   "id": "2ac150d5-93ee-4b48-b65f-2761a5796f79",
   "metadata": {},
   "outputs": [],
   "source": []
  },
  {
   "cell_type": "markdown",
   "id": "eec2b5e3-6f7b-4f68-8170-dee0c48b91cc",
   "metadata": {},
   "source": [
    "## model 2"
   ]
  },
  {
   "cell_type": "code",
   "execution_count": null,
   "id": "00f768a0-1aed-496c-ae6a-062649fba10a",
   "metadata": {},
   "outputs": [],
   "source": [
    "model1 = smf.ols('Price~Age_08_04+KM+HP+Automatic+cc+Doors+Cylinders+Gears+Weight+Fuel_Type_CNG+Fuel_Type_Diesel+Fuel_Type_Petrol', data=train_data).fit()"
   ]
  },
  {
   "cell_type": "code",
   "execution_count": null,
   "id": "4314b4de-a34d-4cbf-ade3-9540f7c01d3c",
   "metadata": {},
   "outputs": [],
   "source": [
    "model1.rsquared  "
   ]
  },
  {
   "cell_type": "code",
   "execution_count": null,
   "id": "3f80f9ba-b4cd-4940-98f3-264c71dacb5d",
   "metadata": {},
   "outputs": [],
   "source": [
    "# accuracy increased by more than 1 precentage: from 0.8702 to 0.8875 "
   ]
  },
  {
   "cell_type": "code",
   "execution_count": null,
   "id": "4b8c454a-72b5-49b8-ba3c-e5c30c5c313b",
   "metadata": {},
   "outputs": [],
   "source": [
    "model1.predict(xtest)"
   ]
  },
  {
   "cell_type": "code",
   "execution_count": null,
   "id": "06697424-bf58-412f-9ced-07769e5f015e",
   "metadata": {},
   "outputs": [],
   "source": [
    "from sklearn.metrics import r2_score"
   ]
  },
  {
   "cell_type": "code",
   "execution_count": null,
   "id": "b7562d43-7257-4f56-b01b-627fcf04c0f8",
   "metadata": {},
   "outputs": [],
   "source": [
    "accuracy1 = r2_score(ytest, ypred)\n",
    "accuracy1"
   ]
  },
  {
   "cell_type": "code",
   "execution_count": null,
   "id": "4f1cfd6a-2ce7-4115-a503-89fa0b4fbb36",
   "metadata": {},
   "outputs": [],
   "source": []
  },
  {
   "cell_type": "markdown",
   "id": "d562379a-4790-48ff-a6be-397e4ef1a1a1",
   "metadata": {},
   "source": [
    "### MODEL3"
   ]
  },
  {
   "cell_type": "code",
   "execution_count": null,
   "id": "21d3dcf0-dcd5-4862-91e9-afff0f069de1",
   "metadata": {},
   "outputs": [],
   "source": [
    "# if I train regression model on testing data to check the accuracy of model then"
   ]
  },
  {
   "cell_type": "code",
   "execution_count": null,
   "id": "68b8bcd5-0b9d-477d-9b99-c0704a5ac3e5",
   "metadata": {},
   "outputs": [],
   "source": [
    "test_data = pd.concat([xtest, ytest], axis=1)\n",
    "test_data"
   ]
  },
  {
   "cell_type": "code",
   "execution_count": null,
   "id": "9b5728a0-e71e-49fd-ac10-de0ad475cd93",
   "metadata": {},
   "outputs": [],
   "source": [
    "model2 = smf.ols('Price~Age_08_04+KM+HP+Automatic+cc+Doors+Cylinders+Gears+Weight+Fuel_Type_CNG+Fuel_Type_Diesel+Fuel_Type_Petrol', data=test_data).fit()"
   ]
  },
  {
   "cell_type": "code",
   "execution_count": null,
   "id": "66f8afbe-16ac-45bd-a2cf-5e6f9f4193af",
   "metadata": {},
   "outputs": [],
   "source": [
    "model2.rsquared"
   ]
  },
  {
   "cell_type": "code",
   "execution_count": null,
   "id": "7f5ea5e6-6b0f-4e15-b8a4-8277f14e5a70",
   "metadata": {},
   "outputs": [],
   "source": [
    "print(f'accuracy of this model is:   {model2.rsquared}')"
   ]
  },
  {
   "cell_type": "code",
   "execution_count": null,
   "id": "732a02ec-0c36-4133-a421-3f8657fcb52a",
   "metadata": {},
   "outputs": [],
   "source": []
  },
  {
   "cell_type": "code",
   "execution_count": null,
   "id": "adbe5f6c-f760-4da3-a94a-fc1109ab5122",
   "metadata": {},
   "outputs": [],
   "source": []
  },
  {
   "cell_type": "code",
   "execution_count": null,
   "id": "de022842-13a4-4c09-b26f-9ffc0c0dd2b3",
   "metadata": {},
   "outputs": [],
   "source": []
  },
  {
   "cell_type": "code",
   "execution_count": null,
   "id": "5cf1aa99-1926-4d83-9971-b4dc9c51bd6d",
   "metadata": {},
   "outputs": [],
   "source": []
  },
  {
   "cell_type": "code",
   "execution_count": null,
   "id": "2f083f00-8d68-49fc-a6f9-ae81d85bd627",
   "metadata": {},
   "outputs": [],
   "source": []
  },
  {
   "cell_type": "code",
   "execution_count": null,
   "id": "2bda6f00-927f-4ddf-9208-5ced6241e398",
   "metadata": {},
   "outputs": [],
   "source": []
  },
  {
   "cell_type": "code",
   "execution_count": null,
   "id": "c14665ea-4181-48d2-bff6-4eb0e45a6274",
   "metadata": {},
   "outputs": [],
   "source": []
  },
  {
   "cell_type": "code",
   "execution_count": null,
   "id": "a212cdb7-622d-48b1-900b-d606bd98a862",
   "metadata": {},
   "outputs": [],
   "source": []
  },
  {
   "cell_type": "code",
   "execution_count": null,
   "id": "16738dbb-b7db-4080-b5b1-de197a21a056",
   "metadata": {},
   "outputs": [],
   "source": []
  },
  {
   "cell_type": "code",
   "execution_count": null,
   "id": "ff7e36ae-04d0-4ee9-a664-b9a760bca278",
   "metadata": {},
   "outputs": [],
   "source": []
  },
  {
   "cell_type": "code",
   "execution_count": null,
   "id": "b21b689c-8adb-45fd-a360-fc60c5e1a0ab",
   "metadata": {},
   "outputs": [],
   "source": []
  },
  {
   "cell_type": "code",
   "execution_count": null,
   "id": "01b1ee6e-4064-4774-9792-982b64b6742a",
   "metadata": {},
   "outputs": [],
   "source": []
  },
  {
   "cell_type": "code",
   "execution_count": null,
   "id": "99e2140a-9d15-409d-a27d-d8057b97b716",
   "metadata": {},
   "outputs": [],
   "source": []
  },
  {
   "cell_type": "code",
   "execution_count": null,
   "id": "7ac1a7fa-8d70-4896-8140-4a2feeaf51c4",
   "metadata": {},
   "outputs": [],
   "source": []
  },
  {
   "cell_type": "code",
   "execution_count": null,
   "id": "9b7da18a-6f47-4e63-97e1-d89122b74476",
   "metadata": {},
   "outputs": [],
   "source": []
  }
 ],
 "metadata": {
  "kernelspec": {
   "display_name": "Python 3 (ipykernel)",
   "language": "python",
   "name": "python3"
  },
  "language_info": {
   "codemirror_mode": {
    "name": "ipython",
    "version": 3
   },
   "file_extension": ".py",
   "mimetype": "text/x-python",
   "name": "python",
   "nbconvert_exporter": "python",
   "pygments_lexer": "ipython3",
   "version": "3.12.4"
  }
 },
 "nbformat": 4,
 "nbformat_minor": 5
}
