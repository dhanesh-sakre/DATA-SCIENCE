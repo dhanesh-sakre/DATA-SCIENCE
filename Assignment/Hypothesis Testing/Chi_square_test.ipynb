{
 "cells": [
  {
   "cell_type": "code",
   "execution_count": 1,
   "id": "a847a091-3884-49fc-bcee-f65bafc8af91",
   "metadata": {},
   "outputs": [],
   "source": [
    "import pandas as pd\n",
    "import numpy as np\n",
    "from scipy.stats import chi2_contingency"
   ]
  },
  {
   "cell_type": "code",
   "execution_count": 3,
   "id": "74905740-61fc-4a18-9c73-7eec8b7017f0",
   "metadata": {},
   "outputs": [
    {
     "data": {
      "text/html": [
       "<div>\n",
       "<style scoped>\n",
       "    .dataframe tbody tr th:only-of-type {\n",
       "        vertical-align: middle;\n",
       "    }\n",
       "\n",
       "    .dataframe tbody tr th {\n",
       "        vertical-align: top;\n",
       "    }\n",
       "\n",
       "    .dataframe thead th {\n",
       "        text-align: right;\n",
       "    }\n",
       "</style>\n",
       "<table border=\"1\" class=\"dataframe\">\n",
       "  <thead>\n",
       "    <tr style=\"text-align: right;\">\n",
       "      <th></th>\n",
       "      <th>Smart Devices</th>\n",
       "      <th>Satisfaction</th>\n",
       "    </tr>\n",
       "  </thead>\n",
       "  <tbody>\n",
       "    <tr>\n",
       "      <th>0</th>\n",
       "      <td>Smart Light</td>\n",
       "      <td>Very Satisfied</td>\n",
       "    </tr>\n",
       "    <tr>\n",
       "      <th>1</th>\n",
       "      <td>Smart Light</td>\n",
       "      <td>Very Satisfied</td>\n",
       "    </tr>\n",
       "    <tr>\n",
       "      <th>2</th>\n",
       "      <td>Smart Light</td>\n",
       "      <td>Very Satisfied</td>\n",
       "    </tr>\n",
       "    <tr>\n",
       "      <th>3</th>\n",
       "      <td>Smart Light</td>\n",
       "      <td>Very Satisfied</td>\n",
       "    </tr>\n",
       "    <tr>\n",
       "      <th>4</th>\n",
       "      <td>Smart Light</td>\n",
       "      <td>Very Satisfied</td>\n",
       "    </tr>\n",
       "    <tr>\n",
       "      <th>...</th>\n",
       "      <td>...</td>\n",
       "      <td>...</td>\n",
       "    </tr>\n",
       "    <tr>\n",
       "      <th>595</th>\n",
       "      <td>Smart Thermostat</td>\n",
       "      <td>Very Unsatisfied</td>\n",
       "    </tr>\n",
       "    <tr>\n",
       "      <th>596</th>\n",
       "      <td>Smart Thermostat</td>\n",
       "      <td>Very Unsatisfied</td>\n",
       "    </tr>\n",
       "    <tr>\n",
       "      <th>597</th>\n",
       "      <td>Smart Thermostat</td>\n",
       "      <td>Very Unsatisfied</td>\n",
       "    </tr>\n",
       "    <tr>\n",
       "      <th>598</th>\n",
       "      <td>Smart Thermostat</td>\n",
       "      <td>Very Unsatisfied</td>\n",
       "    </tr>\n",
       "    <tr>\n",
       "      <th>599</th>\n",
       "      <td>Smart Thermostat</td>\n",
       "      <td>Very Unsatisfied</td>\n",
       "    </tr>\n",
       "  </tbody>\n",
       "</table>\n",
       "<p>600 rows × 2 columns</p>\n",
       "</div>"
      ],
      "text/plain": [
       "        Smart Devices      Satisfaction\n",
       "0         Smart Light    Very Satisfied\n",
       "1         Smart Light    Very Satisfied\n",
       "2         Smart Light    Very Satisfied\n",
       "3         Smart Light    Very Satisfied\n",
       "4         Smart Light    Very Satisfied\n",
       "..                ...               ...\n",
       "595  Smart Thermostat  Very Unsatisfied\n",
       "596  Smart Thermostat  Very Unsatisfied\n",
       "597  Smart Thermostat  Very Unsatisfied\n",
       "598  Smart Thermostat  Very Unsatisfied\n",
       "599  Smart Thermostat  Very Unsatisfied\n",
       "\n",
       "[600 rows x 2 columns]"
      ]
     },
     "execution_count": 3,
     "metadata": {},
     "output_type": "execute_result"
    }
   ],
   "source": [
    "df = pd.read_csv('chi_test.csv', index_col=0)\n",
    "df"
   ]
  },
  {
   "cell_type": "markdown",
   "id": "47d45621-17ce-467e-ab9b-76766d85623c",
   "metadata": {},
   "source": [
    "### Defined HYPOTHESIS:"
   ]
  },
  {
   "cell_type": "code",
   "execution_count": 12,
   "id": "87e39fcf-5e2d-4ec2-a923-84fab7fc7277",
   "metadata": {},
   "outputs": [
    {
     "name": "stdout",
     "output_type": "stream",
     "text": [
      "there is no significant association between the type of smart home device purchased (Smart Thermostats vs. Smart Lights) and the customer satisfaction level. Both of these are independent of each other(they are not related to each other).\n"
     ]
    }
   ],
   "source": [
    "\n",
    "Null_Hypothesis = 'there is no significant association between the type of smart home device purchased (Smart Thermostats vs. Smart Lights) and the customer satisfaction level. Both of these are independent of each other(they are not related to each other).'\n",
    "\n",
    "print(Null_Hypothesis)"
   ]
  },
  {
   "cell_type": "code",
   "execution_count": 13,
   "id": "68de241c-a92b-4e53-a93b-1e5b95e02379",
   "metadata": {},
   "outputs": [
    {
     "name": "stdout",
     "output_type": "stream",
     "text": [
      "there is a significant association between the type of smart home device purchased (Smart Thermostats vs. Smart Lights) and the customer satisfaction level. Both the columns are associated with each other(they are related to each other).\n"
     ]
    }
   ],
   "source": [
    "Alternate_Hypothesis = 'there is a significant association between the type of smart home device purchased (Smart Thermostats vs. Smart Lights) and the customer satisfaction level. Both the columns are associated with each other(they are related to each other).'\n",
    "print(Alternate_Hypothesis)"
   ]
  },
  {
   "cell_type": "code",
   "execution_count": null,
   "id": "8c0c47fa-6286-43a0-b7f9-4401757a41f5",
   "metadata": {},
   "outputs": [],
   "source": []
  },
  {
   "cell_type": "code",
   "execution_count": 4,
   "id": "7ba7a0c6-8297-4227-a042-b53b6dafc24c",
   "metadata": {},
   "outputs": [],
   "source": [
    "# in order to use the chi2_contengency function I need to convert the data into crosstab to get observed frequency\n",
    "\n",
    "observed = pd.crosstab(index=df['Smart Devices'], columns=df['Satisfaction'])"
   ]
  },
  {
   "cell_type": "code",
   "execution_count": 5,
   "id": "9f8d9682-7894-4045-91fc-2db037e0a5f6",
   "metadata": {},
   "outputs": [
    {
     "data": {
      "text/html": [
       "<div>\n",
       "<style scoped>\n",
       "    .dataframe tbody tr th:only-of-type {\n",
       "        vertical-align: middle;\n",
       "    }\n",
       "\n",
       "    .dataframe tbody tr th {\n",
       "        vertical-align: top;\n",
       "    }\n",
       "\n",
       "    .dataframe thead th {\n",
       "        text-align: right;\n",
       "    }\n",
       "</style>\n",
       "<table border=\"1\" class=\"dataframe\">\n",
       "  <thead>\n",
       "    <tr style=\"text-align: right;\">\n",
       "      <th>Satisfaction</th>\n",
       "      <th>Neutral</th>\n",
       "      <th>Satisfied</th>\n",
       "      <th>Unsatisfied</th>\n",
       "      <th>Very Satisfied</th>\n",
       "      <th>Very Unsatisfied</th>\n",
       "    </tr>\n",
       "    <tr>\n",
       "      <th>Smart Devices</th>\n",
       "      <th></th>\n",
       "      <th></th>\n",
       "      <th></th>\n",
       "      <th></th>\n",
       "      <th></th>\n",
       "    </tr>\n",
       "  </thead>\n",
       "  <tbody>\n",
       "    <tr>\n",
       "      <th>Smart Light</th>\n",
       "      <td>90</td>\n",
       "      <td>100</td>\n",
       "      <td>50</td>\n",
       "      <td>70</td>\n",
       "      <td>50</td>\n",
       "    </tr>\n",
       "    <tr>\n",
       "      <th>Smart Thermostat</th>\n",
       "      <td>60</td>\n",
       "      <td>80</td>\n",
       "      <td>30</td>\n",
       "      <td>50</td>\n",
       "      <td>20</td>\n",
       "    </tr>\n",
       "  </tbody>\n",
       "</table>\n",
       "</div>"
      ],
      "text/plain": [
       "Satisfaction      Neutral  Satisfied  Unsatisfied  Very Satisfied  \\\n",
       "Smart Devices                                                       \n",
       "Smart Light            90        100           50              70   \n",
       "Smart Thermostat       60         80           30              50   \n",
       "\n",
       "Satisfaction      Very Unsatisfied  \n",
       "Smart Devices                       \n",
       "Smart Light                     50  \n",
       "Smart Thermostat                20  "
      ]
     },
     "execution_count": 5,
     "metadata": {},
     "output_type": "execute_result"
    }
   ],
   "source": [
    "# observed frequency\n",
    "\n",
    "observed"
   ]
  },
  {
   "cell_type": "code",
   "execution_count": 6,
   "id": "ae437845-6106-41ee-8de1-c99cccc74aa9",
   "metadata": {},
   "outputs": [],
   "source": [
    "# function returns 4 values:  chi-square statistic value, p-value, degrees of freedom , expected frequency\n",
    "\n",
    "chi2, p, df, exp = chi2_contingency(observed)"
   ]
  },
  {
   "cell_type": "code",
   "execution_count": 7,
   "id": "ff9b7c57-e85c-4e47-9b9c-83e5f56d9641",
   "metadata": {},
   "outputs": [
    {
     "data": {
      "text/plain": [
       "5.638227513227513"
      ]
     },
     "execution_count": 7,
     "metadata": {},
     "output_type": "execute_result"
    }
   ],
   "source": [
    "# the Chi-Square Statistic:\n",
    "chi2"
   ]
  },
  {
   "cell_type": "code",
   "execution_count": 8,
   "id": "c1f3f428-0579-4951-8435-132b2432d21e",
   "metadata": {},
   "outputs": [
    {
     "data": {
      "text/plain": [
       "0.22784371130697179"
      ]
     },
     "execution_count": 8,
     "metadata": {},
     "output_type": "execute_result"
    }
   ],
   "source": [
    "# p-value\n",
    "p"
   ]
  },
  {
   "cell_type": "code",
   "execution_count": 9,
   "id": "ed050363-894d-4024-aaea-5faf647265d3",
   "metadata": {},
   "outputs": [
    {
     "data": {
      "text/plain": [
       "4"
      ]
     },
     "execution_count": 9,
     "metadata": {},
     "output_type": "execute_result"
    }
   ],
   "source": [
    "# degrees of freedom\n",
    "df"
   ]
  },
  {
   "cell_type": "code",
   "execution_count": 10,
   "id": "94de7409-1391-4beb-a164-33d72d27125d",
   "metadata": {},
   "outputs": [
    {
     "data": {
      "text/plain": [
       "array([[ 90., 108.,  48.,  72.,  42.],\n",
       "       [ 60.,  72.,  32.,  48.,  28.]])"
      ]
     },
     "execution_count": 10,
     "metadata": {},
     "output_type": "execute_result"
    }
   ],
   "source": [
    "# expected frequency\n",
    "exp"
   ]
  },
  {
   "cell_type": "code",
   "execution_count": null,
   "id": "bf0c332f-ec9b-4830-a504-43d149fe2d82",
   "metadata": {},
   "outputs": [],
   "source": [
    "# significance_level = 0.5"
   ]
  },
  {
   "cell_type": "code",
   "execution_count": 15,
   "id": "1c415f72-92c4-485d-8fa1-a5a069abc9c9",
   "metadata": {},
   "outputs": [
    {
     "name": "stdout",
     "output_type": "stream",
     "text": [
      "Fail to reject Null Hypothesis.there is no significant association between the type of smart home device purchased (Smart Thermostats vs. Smart Lights) and the customer satisfaction level. Both of these are independent of each other(they are not related to each other).\n"
     ]
    }
   ],
   "source": [
    "if p < 0.05:\n",
    "    print(f'Reject Null Hypothesis.{Alternate_Hypothesis}')\n",
    "else: \n",
    "    print(f'Fail to reject Null Hypothesis.{Null_Hypothesis}')"
   ]
  },
  {
   "cell_type": "code",
   "execution_count": null,
   "id": "acaf11d5-1080-4b35-b210-c5e818f3cd9c",
   "metadata": {},
   "outputs": [],
   "source": []
  },
  {
   "cell_type": "code",
   "execution_count": null,
   "id": "dae755dc-869a-4d48-823c-0bb12de9b7c3",
   "metadata": {},
   "outputs": [],
   "source": []
  },
  {
   "cell_type": "code",
   "execution_count": null,
   "id": "ca192b37-1f96-4672-88a0-c43bb459e892",
   "metadata": {},
   "outputs": [],
   "source": []
  },
  {
   "cell_type": "code",
   "execution_count": null,
   "id": "d112c85c-e250-4226-abb9-c254647b3282",
   "metadata": {},
   "outputs": [],
   "source": []
  },
  {
   "cell_type": "code",
   "execution_count": null,
   "id": "f5e78f78-4b16-4825-853c-3932f113b638",
   "metadata": {},
   "outputs": [],
   "source": []
  }
 ],
 "metadata": {
  "kernelspec": {
   "display_name": "Python 3 (ipykernel)",
   "language": "python",
   "name": "python3"
  },
  "language_info": {
   "codemirror_mode": {
    "name": "ipython",
    "version": 3
   },
   "file_extension": ".py",
   "mimetype": "text/x-python",
   "name": "python",
   "nbconvert_exporter": "python",
   "pygments_lexer": "ipython3",
   "version": "3.12.4"
  }
 },
 "nbformat": 4,
 "nbformat_minor": 5
}
