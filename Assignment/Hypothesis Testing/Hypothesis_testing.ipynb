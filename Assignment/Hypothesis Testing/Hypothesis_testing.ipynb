{
 "cells": [
  {
   "cell_type": "code",
   "execution_count": 2,
   "id": "775a18cd-4ffe-4f74-8d64-708d5b31ef23",
   "metadata": {},
   "outputs": [],
   "source": [
    "import pandas as pd\n",
    "import numpy as np"
   ]
  },
  {
   "cell_type": "code",
   "execution_count": 4,
   "id": "6094b873-3d7c-4015-afdb-ed0aa06c6b90",
   "metadata": {},
   "outputs": [],
   "source": [
    "# Objective:\n",
    "# To investigate the restaurant owners' claim about the increase in weekly operating costs using hypothesis testing.\n",
    "# DATA GIVEN :\n",
    "# •\tThe theoretical weekly operating cost model: W = $1,000 + $5X\n",
    "# •\tSample of 25 restaurants with a mean weekly cost of Rs. 3,050\n",
    "# •\tNumber of units produced in a week (X) follows a normal distribution with a mean (μ) of 600 units and a standard deviation (σ) of 25 units\n"
   ]
  },
  {
   "cell_type": "code",
   "execution_count": null,
   "id": "9ef69a1f-2221-4bc4-a4bd-b4c45bc0ed74",
   "metadata": {},
   "outputs": [],
   "source": [
    "# where:\n",
    "# •\tˉxˉ = sample mean weekly cost (Rs. 3,050)\n",
    "# •\tμ = theoretical mean weekly cost according to the cost model (W = $1,000 + $5X for X = 600 units)\n",
    "# •\tσ = 5*25 units\n",
    "# •\tn = sample size (25 restaurants)\n"
   ]
  },
  {
   "cell_type": "markdown",
   "id": "f0ecde3a-25ea-498f-8248-c3e369471d26",
   "metadata": {},
   "source": [
    "# DEFINING HYPOTHESIS:"
   ]
  },
  {
   "cell_type": "code",
   "execution_count": 18,
   "id": "1899b1e1-e78a-4552-b6f8-a6ee24715e20",
   "metadata": {},
   "outputs": [
    {
     "name": "stdout",
     "output_type": "stream",
     "text": [
      "Null hypothesis: Weekly operating cost is  less than or equal to the theoretical weekly operating cost.\n"
     ]
    }
   ],
   "source": [
    "# Null hypothesis\n",
    "\n",
    "null_hypothesis = \"Weekly operating cost is  less than or equal to the theoretical weekly operating cost.\"\n",
    "print(f'Null hypothesis: {null_hypothesis}')"
   ]
  },
  {
   "cell_type": "code",
   "execution_count": 13,
   "id": "c3f433e9-9c6f-4fdb-80fd-dfec16bf8890",
   "metadata": {},
   "outputs": [
    {
     "name": "stdout",
     "output_type": "stream",
     "text": [
      "Alternate hypothesis: Weekly operating cost is greater than the theoretical weekly operating cost.\n"
     ]
    }
   ],
   "source": [
    "# Alternate hypothesis\n",
    "\n",
    "\n",
    "alternate_hypothesis = \"Weekly operating cost is greater than the theoretical weekly operating cost.\"\n",
    "print(f'Alternate hypothesis: {alternate_hypothesis}')"
   ]
  },
  {
   "cell_type": "markdown",
   "id": "58003d1e-f3ac-46cc-be5c-c430db664309",
   "metadata": {},
   "source": [
    "# DATA GIVEN:"
   ]
  },
  {
   "cell_type": "code",
   "execution_count": 8,
   "id": "a157d070-d0da-43d2-b5cb-d9ae60d35347",
   "metadata": {},
   "outputs": [
    {
     "data": {
      "text/plain": [
       "3050"
      ]
     },
     "execution_count": 8,
     "metadata": {},
     "output_type": "execute_result"
    }
   ],
   "source": [
    "sample_mean = 3050\n",
    "sample_mean"
   ]
  },
  {
   "cell_type": "code",
   "execution_count": 9,
   "id": "8f24d64f-9889-47d2-8f4b-83c41bda546e",
   "metadata": {},
   "outputs": [
    {
     "data": {
      "text/plain": [
       "4000"
      ]
     },
     "execution_count": 9,
     "metadata": {},
     "output_type": "execute_result"
    }
   ],
   "source": [
    "population_mean = 1000+(5*600)\n",
    "population_mean"
   ]
  },
  {
   "cell_type": "code",
   "execution_count": 10,
   "id": "9642f9f4-a4be-47ef-b3d3-a77179d20656",
   "metadata": {},
   "outputs": [
    {
     "data": {
      "text/plain": [
       "125"
      ]
     },
     "execution_count": 10,
     "metadata": {},
     "output_type": "execute_result"
    }
   ],
   "source": [
    "# POPULATION STANDARD DEVIATION\n",
    "population_SD = 5 * 25\n",
    "population_SD"
   ]
  },
  {
   "cell_type": "code",
   "execution_count": 11,
   "id": "6271b987-37cc-4093-90b4-ddc86d3020c3",
   "metadata": {},
   "outputs": [
    {
     "data": {
      "text/plain": [
       "5.0"
      ]
     },
     "execution_count": 11,
     "metadata": {},
     "output_type": "execute_result"
    }
   ],
   "source": [
    "n = 25\n",
    "root_n = n ** 0.5\n",
    "root_n"
   ]
  },
  {
   "cell_type": "markdown",
   "id": "b98c47e5-f02a-4f01-8450-1b43eb4dd164",
   "metadata": {},
   "source": [
    "# TEST:\n",
    "I need to use Z-DISTRIBUTION(z-test) BECAUSE POPULATION STANDARD DEVIATION IS GIVEN"
   ]
  },
  {
   "cell_type": "markdown",
   "id": "22a30a58-fc87-4f06-9f58-f3e3fd7aaf91",
   "metadata": {},
   "source": [
    "# SIGNIFICANCE LEVEL:"
   ]
  },
  {
   "cell_type": "code",
   "execution_count": 12,
   "id": "667c4adb-2af1-4253-9775-095d7d5df557",
   "metadata": {},
   "outputs": [],
   "source": [
    "alpha = 0.05"
   ]
  },
  {
   "cell_type": "markdown",
   "id": "9b120890-d7e6-4572-ac0f-2126efa7af70",
   "metadata": {},
   "source": [
    "# DEFINE TYPE OF TAILS:"
   ]
  },
  {
   "cell_type": "markdown",
   "id": "5b90bc18-014f-49dd-8958-0fb1c76c7ebd",
   "metadata": {},
   "source": [
    "\n",
    "it is one tail test. because I have to check only one reagion of Area under the curve in the probability distribution."
   ]
  },
  {
   "cell_type": "markdown",
   "id": "85eaa189-50a2-4ce7-b0e6-82644cf7b047",
   "metadata": {},
   "source": [
    "# finding test statistical value:"
   ]
  },
  {
   "cell_type": "code",
   "execution_count": 15,
   "id": "67b83fe7-f2d2-4e79-8df8-b84268847a61",
   "metadata": {},
   "outputs": [
    {
     "data": {
      "text/plain": [
       "-38.0"
      ]
     },
     "execution_count": 15,
     "metadata": {},
     "output_type": "execute_result"
    }
   ],
   "source": [
    "test_statistical = (sample_mean-population_mean)/(population_SD/root_n)\n",
    "test_statistical"
   ]
  },
  {
   "cell_type": "markdown",
   "id": "160f7f3e-44d4-43fe-adf3-5ca421a933f7",
   "metadata": {},
   "source": [
    "# P-VALUE"
   ]
  },
  {
   "cell_type": "raw",
   "id": "e57549c6-462f-41fb-a606-3a135101d1d4",
   "metadata": {},
   "source": [
    "To make final conclusion I need to find out p-value.\n",
    "for that I will use e Z-table."
   ]
  },
  {
   "cell_type": "code",
   "execution_count": 17,
   "id": "fbcadc3b-ac23-4a8b-8245-e3edb5357d25",
   "metadata": {},
   "outputs": [
    {
     "data": {
      "text/plain": [
       "1.645"
      ]
     },
     "execution_count": 17,
     "metadata": {},
     "output_type": "execute_result"
    }
   ],
   "source": [
    "# p-value when alpha is 0.05\n",
    "p_value = 1.645\n",
    "p_value"
   ]
  },
  {
   "cell_type": "markdown",
   "id": "db8a8702-95e7-4fcb-99af-ff2a777a5809",
   "metadata": {},
   "source": [
    "# FINAL CONCLUSION"
   ]
  },
  {
   "cell_type": "code",
   "execution_count": 19,
   "id": "73002a40-99df-4cb9-8ad9-3d7acc545227",
   "metadata": {},
   "outputs": [
    {
     "name": "stdout",
     "output_type": "stream",
     "text": [
      "Reject null hypothesis. Weekly operating cost is  less than or equal to the theoretical weekly operating cost.\n"
     ]
    }
   ],
   "source": [
    "if test_statistical < p_value:\n",
    "    print(f'Reject null hypothesis. {null_hypothesis}')\n",
    "else:\n",
    "    print(f'Fail to reject null hypothesis. {alternate_hypothesis}')"
   ]
  },
  {
   "cell_type": "code",
   "execution_count": null,
   "id": "106dfbce-a745-4fb8-b0ca-a27c36ff0e27",
   "metadata": {},
   "outputs": [],
   "source": []
  },
  {
   "cell_type": "code",
   "execution_count": null,
   "id": "0ecc3a47-df50-4599-bc4b-4ba6e15b7121",
   "metadata": {},
   "outputs": [],
   "source": []
  }
 ],
 "metadata": {
  "kernelspec": {
   "display_name": "Python 3 (ipykernel)",
   "language": "python",
   "name": "python3"
  },
  "language_info": {
   "codemirror_mode": {
    "name": "ipython",
    "version": 3
   },
   "file_extension": ".py",
   "mimetype": "text/x-python",
   "name": "python",
   "nbconvert_exporter": "python",
   "pygments_lexer": "ipython3",
   "version": "3.12.4"
  }
 },
 "nbformat": 4,
 "nbformat_minor": 5
}
