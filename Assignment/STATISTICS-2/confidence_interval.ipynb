{
 "cells": [
  {
   "cell_type": "code",
   "execution_count": 1,
   "id": "4e7defc3-817f-460e-bca4-abf4254c4afb",
   "metadata": {},
   "outputs": [],
   "source": [
    "import pandas as pd\n",
    "import numpy as np"
   ]
  },
  {
   "cell_type": "code",
   "execution_count": 2,
   "id": "1750bd2d-e5df-4168-8a3a-0259aede49b8",
   "metadata": {},
   "outputs": [
    {
     "data": {
      "text/plain": [
       "0     1.13\n",
       "1     1.55\n",
       "2     1.43\n",
       "3     0.92\n",
       "4     1.25\n",
       "5     1.36\n",
       "6     1.32\n",
       "7     0.85\n",
       "8     1.07\n",
       "9     1.48\n",
       "10    1.20\n",
       "11    1.33\n",
       "12    1.18\n",
       "13    1.22\n",
       "14    1.29\n",
       "dtype: float64"
      ]
     },
     "execution_count": 2,
     "metadata": {},
     "output_type": "execute_result"
    }
   ],
   "source": [
    "df = pd.Series([1.13, 1.55, 1.43, 0.92, 1.25, 1.36, 1.32, 0.85, 1.07, 1.48, 1.20, 1.33, 1.18, 1.22, 1.29])\n",
    "df"
   ]
  },
  {
   "cell_type": "code",
   "execution_count": 22,
   "id": "31ebee56-39ba-4928-9e2b-e1732cf4bc21",
   "metadata": {},
   "outputs": [
    {
     "data": {
      "text/plain": [
       "0.99"
      ]
     },
     "execution_count": 22,
     "metadata": {},
     "output_type": "execute_result"
    }
   ],
   "source": [
    "# confidence_level\n",
    "CL = 0.99\n",
    "CL"
   ]
  },
  {
   "cell_type": "code",
   "execution_count": 23,
   "id": "23af6245-6f0d-4e3e-9059-a8e5a190986b",
   "metadata": {},
   "outputs": [
    {
     "data": {
      "text/plain": [
       "0.01"
      ]
     },
     "execution_count": 23,
     "metadata": {},
     "output_type": "execute_result"
    }
   ],
   "source": [
    "# significance_level\n",
    "alpha = 0.01\n",
    "alpha"
   ]
  },
  {
   "cell_type": "code",
   "execution_count": 6,
   "id": "a0ad110a-9774-4c23-a3c4-e42ffe9778f7",
   "metadata": {},
   "outputs": [
    {
     "data": {
      "text/plain": [
       "0.19316412956959936"
      ]
     },
     "execution_count": 6,
     "metadata": {},
     "output_type": "execute_result"
    }
   ],
   "source": [
    "# Standard deviation\n",
    "SD = df.std()\n",
    "SD"
   ]
  },
  {
   "cell_type": "code",
   "execution_count": 13,
   "id": "40859a4d-dc6d-4b17-bef7-7394c1ecc76d",
   "metadata": {},
   "outputs": [
    {
     "data": {
      "text/plain": [
       "1.2386666666666666"
      ]
     },
     "execution_count": 13,
     "metadata": {},
     "output_type": "execute_result"
    }
   ],
   "source": [
    "# point_estimate of data\n",
    "point_estimate = df.mean()\n",
    "point_estimate"
   ]
  },
  {
   "cell_type": "code",
   "execution_count": 10,
   "id": "e1f9b904-a3a1-4229-b634-880545ae8228",
   "metadata": {},
   "outputs": [
    {
     "data": {
      "text/plain": [
       "3.872983346207417"
      ]
     },
     "execution_count": 10,
     "metadata": {},
     "output_type": "execute_result"
    }
   ],
   "source": [
    "# square_root_of_sample_size\n",
    "sqrt_n = n ** 0.5\n",
    "sqrt_n"
   ]
  },
  {
   "cell_type": "code",
   "execution_count": null,
   "id": "35b122fb-73d4-478e-8b07-df6f7c6ae133",
   "metadata": {},
   "outputs": [],
   "source": []
  },
  {
   "cell_type": "markdown",
   "id": "d5b809a9-08e8-4afa-9d3a-bdeeb935237b",
   "metadata": {},
   "source": [
    "### from t-table\n",
    "#### t-value at 99% confidence level  and degree_of_freedom(n-1) = 14"
   ]
  },
  {
   "cell_type": "code",
   "execution_count": 11,
   "id": "71929318-1a98-4674-8ce0-0a9efbd29f8e",
   "metadata": {},
   "outputs": [],
   "source": [
    " # t1-alpha*(n-1) is t_value\n",
    "\n",
    "t_value = 1.7613"
   ]
  },
  {
   "cell_type": "code",
   "execution_count": 12,
   "id": "7bbc8281-dc80-4a32-aea0-140ba81b01b4",
   "metadata": {},
   "outputs": [],
   "source": [
    "n = 15"
   ]
  },
  {
   "cell_type": "markdown",
   "id": "a5517b13-79ff-474a-8215-d4d67ad1b2ca",
   "metadata": {},
   "source": [
    "\n"
   ]
  },
  {
   "cell_type": "markdown",
   "id": "d56f7362-d7aa-4882-ae57-24cb265c46ea",
   "metadata": {},
   "source": [
    "# Assignment Tasks\n",
    "# a. Build 99% Confidence Interval Using Sample Standard Deviation"
   ]
  },
  {
   "cell_type": "markdown",
   "id": "4b9fc4e1-87c2-4714-873e-8fde7934119b",
   "metadata": {},
   "source": [
    "### margine of error"
   ]
  },
  {
   "cell_type": "code",
   "execution_count": 14,
   "id": "73db179b-36c2-4de9-a0c0-1b5e5821e4b9",
   "metadata": {},
   "outputs": [
    {
     "data": {
      "text/plain": [
       "0.08784442147010331"
      ]
     },
     "execution_count": 14,
     "metadata": {},
     "output_type": "execute_result"
    }
   ],
   "source": [
    "margine_error = t_value * (SD / sqrt_n)\n",
    "margine_error"
   ]
  },
  {
   "cell_type": "markdown",
   "id": "8263e1f5-ba6e-4b4b-924b-8f9da9d015c8",
   "metadata": {},
   "source": [
    "### confidence interval "
   ]
  },
  {
   "cell_type": "code",
   "execution_count": 16,
   "id": "b97e8c1f-4889-4011-bfeb-86eb6a6d9cd9",
   "metadata": {},
   "outputs": [
    {
     "data": {
      "text/plain": [
       "1.1508222451965633"
      ]
     },
     "execution_count": 16,
     "metadata": {},
     "output_type": "execute_result"
    }
   ],
   "source": [
    "# lower value of confidence interval\n",
    "lower = point_estimate - margine_error\n",
    "lower"
   ]
  },
  {
   "cell_type": "code",
   "execution_count": 17,
   "id": "c55c5386-21da-4fca-9d53-e69b1a3b667d",
   "metadata": {},
   "outputs": [
    {
     "data": {
      "text/plain": [
       "1.3265110881367699"
      ]
     },
     "execution_count": 17,
     "metadata": {},
     "output_type": "execute_result"
    }
   ],
   "source": [
    "# lower value of confidence interval\n",
    "upper = point_estimate + margine_error\n",
    "upper"
   ]
  },
  {
   "cell_type": "code",
   "execution_count": 47,
   "id": "f02205c6-0ad2-4e7b-8c56-6a75fb463199",
   "metadata": {},
   "outputs": [
    {
     "data": {
      "text/plain": [
       "[1.1508222451965633, 1.3265110881367699]"
      ]
     },
     "execution_count": 47,
     "metadata": {},
     "output_type": "execute_result"
    }
   ],
   "source": [
    "confidence_interval = [lower, upper]\n",
    "confidence_interval"
   ]
  },
  {
   "cell_type": "markdown",
   "id": "05c2044b-f236-4ec0-b967-c3786e0bca36",
   "metadata": {},
   "source": [
    "# interpretation"
   ]
  },
  {
   "cell_type": "code",
   "execution_count": 48,
   "id": "4d245e01-f1ac-46c4-977c-9077443fbece",
   "metadata": {},
   "outputs": [
    {
     "name": "stdout",
     "output_type": "stream",
     "text": [
      "I am 99% confident that the estimatation of the mean durability of the print-heads in terms of the number of characters printed before failure is in the range of [1.1508222451965633, 1.3265110881367699] in millions of characters.\n"
     ]
    }
   ],
   "source": [
    "print(f'I am 99% confident that the estimatation of the mean durability of the print-heads in terms of the number of characters printed before failure is in the range of {confidence_interval} in millions of characters.' )"
   ]
  },
  {
   "cell_type": "code",
   "execution_count": null,
   "id": "df0850d0-bd3d-4cfc-9fb5-335b41a28527",
   "metadata": {},
   "outputs": [],
   "source": []
  },
  {
   "cell_type": "markdown",
   "id": "855e4051-6170-45f4-ac7d-052934dc85e3",
   "metadata": {},
   "source": [
    "### The rationale behind using the t-distribution for this task"
   ]
  },
  {
   "cell_type": "markdown",
   "id": "5db41f7c-d6c2-43a7-a0ee-4bfe437b1333",
   "metadata": {},
   "source": [
    "Because I have sample data so I can only use t-distribution for the caculation of confidance interval.\n",
    "In the problem statement, population standard deviation is not given so I cannot use z-distribution."
   ]
  },
  {
   "cell_type": "code",
   "execution_count": null,
   "id": "8b6846bb-89c0-457f-8e49-02893bfeccdf",
   "metadata": {},
   "outputs": [],
   "source": []
  },
  {
   "cell_type": "markdown",
   "id": "63269b4f-24c6-45bc-83e9-682ecdd641ed",
   "metadata": {},
   "source": [
    "# Assignment Tasks ( b )\n",
    "\n",
    "# Build 99% Confidence Interval Using Known Population Standard Deviatio"
   ]
  },
  {
   "cell_type": "code",
   "execution_count": 31,
   "id": "73240457-59d2-4723-9dc1-f8c0b1150ee5",
   "metadata": {},
   "outputs": [
    {
     "data": {
      "text/plain": [
       "0.2"
      ]
     },
     "execution_count": 31,
     "metadata": {},
     "output_type": "execute_result"
    }
   ],
   "source": [
    "# population standard deviation\n",
    "population_SD = 0.2\n",
    "population_SD"
   ]
  },
  {
   "cell_type": "markdown",
   "id": "c92d5456-fd44-4356-a848-578515b59c71",
   "metadata": {},
   "source": [
    "### z-value at 99% confidance level from z-table"
   ]
  },
  {
   "cell_type": "code",
   "execution_count": 32,
   "id": "3ee2b90d-6807-4d1d-956e-f8a3ef6e0a8b",
   "metadata": {},
   "outputs": [
    {
     "data": {
      "text/plain": [
       "2.58"
      ]
     },
     "execution_count": 32,
     "metadata": {},
     "output_type": "execute_result"
    }
   ],
   "source": [
    "z_value = 2.58\n",
    "z_value"
   ]
  },
  {
   "cell_type": "code",
   "execution_count": 33,
   "id": "93541e9b-2010-4123-b7b6-7e269286de27",
   "metadata": {},
   "outputs": [
    {
     "data": {
      "text/plain": [
       "0.13323062710953515"
      ]
     },
     "execution_count": 33,
     "metadata": {},
     "output_type": "execute_result"
    }
   ],
   "source": [
    "# margine of error\n",
    "margine_error1 = z_value * ( population_SD / sqrt_n)\n",
    "margine_error1"
   ]
  },
  {
   "cell_type": "code",
   "execution_count": 35,
   "id": "02f578fd-cc2c-4563-b4d6-b552f96f16af",
   "metadata": {},
   "outputs": [
    {
     "data": {
      "text/plain": [
       "1.1054360395571314"
      ]
     },
     "execution_count": 35,
     "metadata": {},
     "output_type": "execute_result"
    }
   ],
   "source": [
    "lower1 = point_estimate - margine_error1\n",
    "lower1"
   ]
  },
  {
   "cell_type": "code",
   "execution_count": 39,
   "id": "0c1f5a97-ed9f-4737-b3eb-5cc0c42aadd6",
   "metadata": {},
   "outputs": [
    {
     "data": {
      "text/plain": [
       "1.3718972937762017"
      ]
     },
     "execution_count": 39,
     "metadata": {},
     "output_type": "execute_result"
    }
   ],
   "source": [
    "upper1 = point_estimate + margine_error1\n",
    "upper1"
   ]
  },
  {
   "cell_type": "code",
   "execution_count": 45,
   "id": "0bb3923c-0f92-4ff0-8954-a71bbf4ebea8",
   "metadata": {},
   "outputs": [
    {
     "data": {
      "text/plain": [
       "[1.1054360395571314, 1.3718972937762017]"
      ]
     },
     "execution_count": 45,
     "metadata": {},
     "output_type": "execute_result"
    }
   ],
   "source": [
    "confidence_interval1 = [lower1, upper1]\n",
    "confidence_interval1"
   ]
  },
  {
   "cell_type": "code",
   "execution_count": 46,
   "id": "f451a7cb-80aa-45a0-bdf5-412da77d6d83",
   "metadata": {},
   "outputs": [
    {
     "name": "stdout",
     "output_type": "stream",
     "text": [
      "I am 99% confident that the estimatation of durability of the print-heads in terms of the number of characters printed before failure is in the range of [1.1054360395571314, 1.3718972937762017] in millions of characters.\n"
     ]
    }
   ],
   "source": [
    "print(f'I am 99% confident that the estimatation of durability of the print-heads in terms of the number of characters printed before failure is in the range of {confidence_interval1} in millions of characters.' )"
   ]
  },
  {
   "cell_type": "code",
   "execution_count": null,
   "id": "2f657b0e-4ed3-4ff0-b0b4-ff60aefe674c",
   "metadata": {},
   "outputs": [],
   "source": []
  },
  {
   "cell_type": "code",
   "execution_count": null,
   "id": "f6bb9db8-5444-4d92-a2be-96ec62657968",
   "metadata": {},
   "outputs": [],
   "source": []
  },
  {
   "cell_type": "code",
   "execution_count": null,
   "id": "d64da38d-6e43-4965-bc06-c990189dcdd8",
   "metadata": {},
   "outputs": [],
   "source": []
  },
  {
   "cell_type": "code",
   "execution_count": null,
   "id": "9b062c9d-294a-4e75-a534-ada2d07cf11a",
   "metadata": {},
   "outputs": [],
   "source": []
  },
  {
   "cell_type": "code",
   "execution_count": null,
   "id": "9495bbbb-7bf9-4bc2-8416-ee3a9dc61cdf",
   "metadata": {},
   "outputs": [],
   "source": []
  },
  {
   "cell_type": "code",
   "execution_count": null,
   "id": "3643d16f-834f-46cd-add0-9dd8ce6e87a3",
   "metadata": {},
   "outputs": [],
   "source": []
  },
  {
   "cell_type": "code",
   "execution_count": null,
   "id": "01374b10-573a-43cc-bfd2-92fce4cc1570",
   "metadata": {},
   "outputs": [],
   "source": []
  }
 ],
 "metadata": {
  "kernelspec": {
   "display_name": "Python 3 (ipykernel)",
   "language": "python",
   "name": "python3"
  },
  "language_info": {
   "codemirror_mode": {
    "name": "ipython",
    "version": 3
   },
   "file_extension": ".py",
   "mimetype": "text/x-python",
   "name": "python",
   "nbconvert_exporter": "python",
   "pygments_lexer": "ipython3",
   "version": "3.12.4"
  }
 },
 "nbformat": 4,
 "nbformat_minor": 5
}
